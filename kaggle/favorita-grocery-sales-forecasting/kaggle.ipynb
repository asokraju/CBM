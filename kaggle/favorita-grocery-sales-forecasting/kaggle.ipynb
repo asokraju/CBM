{
 "cells": [
  {
   "cell_type": "code",
   "execution_count": 1,
   "id": "2a36103a",
   "metadata": {},
   "outputs": [
    {
     "data": {
      "text/html": [
       "<style>.container { width:100% !important; }</style>"
      ],
      "text/plain": [
       "<IPython.core.display.HTML object>"
      ]
     },
     "metadata": {},
     "output_type": "display_data"
    },
    {
     "data": {
      "text/html": [
       "<style>.output_result { max-width:100% !important; }</style>"
      ],
      "text/plain": [
       "<IPython.core.display.HTML object>"
      ]
     },
     "metadata": {},
     "output_type": "display_data"
    },
    {
     "data": {
      "text/html": [
       "<style>.prompt { display:none !important; }</style>"
      ],
      "text/plain": [
       "<IPython.core.display.HTML object>"
      ]
     },
     "metadata": {},
     "output_type": "display_data"
    }
   ],
   "source": [
    "%load_ext autoreload\n",
    "%autoreload 2\n",
    "\n",
    "import numpy as np\n",
    "import pandas as pd\n",
    "import matplotlib.pyplot as plt\n",
    "\n",
    "from IPython.core.display import display, HTML\n",
    "display(HTML(\"<style>.container { width:100% !important; }</style>\"))\n",
    "display(HTML(\"<style>.output_result { max-width:100% !important; }</style>\"))\n",
    "display(HTML(\"<style>.prompt { display:none !important; }</style>\"))"
   ]
  },
  {
   "cell_type": "code",
   "execution_count": 2,
   "id": "04b0763f",
   "metadata": {},
   "outputs": [],
   "source": [
    "# \n",
    "# train = pd.read_csv('data/train.csv', \n",
    "#                     parse_dates=['date'], \n",
    "#                     index_col='id', \n",
    "#                     dtype={\n",
    "#                         # 'date': np.datetime64, \n",
    "#                         'store_nbr': np.short,\n",
    "#                         'item_nbr': np.int64,\n",
    "#                         'unit_sales': np.float64\n",
    "#                     },\n",
    "#                     converters={'onpromotion': lambda x: 'T' if x == 'True' else ('F' if x == 'False' else 'U')}\n",
    "#                    )\n",
    "#\n",
    "# train.merge(items).to_parquet('data/train_items.parquet')\n",
    "# train['class'] = train['class'].astype('str')\n",
    "# train['item_nbr'] = train['item_nbr'].astype('str')\n",
    "# train.to_parquet('data/train.parquet')"
   ]
  },
  {
   "cell_type": "code",
   "execution_count": 2,
   "id": "7412ac39",
   "metadata": {},
   "outputs": [
    {
     "data": {
      "text/html": [
       "<div>\n",
       "<style scoped>\n",
       "    .dataframe tbody tr th:only-of-type {\n",
       "        vertical-align: middle;\n",
       "    }\n",
       "\n",
       "    .dataframe tbody tr th {\n",
       "        vertical-align: top;\n",
       "    }\n",
       "\n",
       "    .dataframe thead th {\n",
       "        text-align: right;\n",
       "    }\n",
       "</style>\n",
       "<table border=\"1\" class=\"dataframe\">\n",
       "  <thead>\n",
       "    <tr style=\"text-align: right;\">\n",
       "      <th></th>\n",
       "      <th>date</th>\n",
       "      <th>store_nbr</th>\n",
       "      <th>item_nbr</th>\n",
       "      <th>unit_sales</th>\n",
       "      <th>onpromotion</th>\n",
       "      <th>family</th>\n",
       "      <th>class</th>\n",
       "      <th>perishable</th>\n",
       "    </tr>\n",
       "  </thead>\n",
       "  <tbody>\n",
       "    <tr>\n",
       "      <th>0</th>\n",
       "      <td>2013-01-01</td>\n",
       "      <td>25</td>\n",
       "      <td>103665</td>\n",
       "      <td>7.0</td>\n",
       "      <td>U</td>\n",
       "      <td>BREAD/BAKERY</td>\n",
       "      <td>2712</td>\n",
       "      <td>1</td>\n",
       "    </tr>\n",
       "    <tr>\n",
       "      <th>1</th>\n",
       "      <td>2013-01-02</td>\n",
       "      <td>1</td>\n",
       "      <td>103665</td>\n",
       "      <td>2.0</td>\n",
       "      <td>U</td>\n",
       "      <td>BREAD/BAKERY</td>\n",
       "      <td>2712</td>\n",
       "      <td>1</td>\n",
       "    </tr>\n",
       "    <tr>\n",
       "      <th>2</th>\n",
       "      <td>2013-01-02</td>\n",
       "      <td>2</td>\n",
       "      <td>103665</td>\n",
       "      <td>5.0</td>\n",
       "      <td>U</td>\n",
       "      <td>BREAD/BAKERY</td>\n",
       "      <td>2712</td>\n",
       "      <td>1</td>\n",
       "    </tr>\n",
       "    <tr>\n",
       "      <th>3</th>\n",
       "      <td>2013-01-02</td>\n",
       "      <td>3</td>\n",
       "      <td>103665</td>\n",
       "      <td>6.0</td>\n",
       "      <td>U</td>\n",
       "      <td>BREAD/BAKERY</td>\n",
       "      <td>2712</td>\n",
       "      <td>1</td>\n",
       "    </tr>\n",
       "    <tr>\n",
       "      <th>4</th>\n",
       "      <td>2013-01-02</td>\n",
       "      <td>4</td>\n",
       "      <td>103665</td>\n",
       "      <td>2.0</td>\n",
       "      <td>U</td>\n",
       "      <td>BREAD/BAKERY</td>\n",
       "      <td>2712</td>\n",
       "      <td>1</td>\n",
       "    </tr>\n",
       "  </tbody>\n",
       "</table>\n",
       "</div>"
      ],
      "text/plain": [
       "        date  store_nbr  item_nbr  unit_sales onpromotion        family  \\\n",
       "0 2013-01-01         25    103665         7.0           U  BREAD/BAKERY   \n",
       "1 2013-01-02          1    103665         2.0           U  BREAD/BAKERY   \n",
       "2 2013-01-02          2    103665         5.0           U  BREAD/BAKERY   \n",
       "3 2013-01-02          3    103665         6.0           U  BREAD/BAKERY   \n",
       "4 2013-01-02          4    103665         2.0           U  BREAD/BAKERY   \n",
       "\n",
       "   class  perishable  \n",
       "0   2712           1  \n",
       "1   2712           1  \n",
       "2   2712           1  \n",
       "3   2712           1  \n",
       "4   2712           1  "
      ]
     },
     "execution_count": 2,
     "metadata": {},
     "output_type": "execute_result"
    }
   ],
   "source": [
    "# scikit-based\n",
    "\n",
    "train = pd.read_parquet('data/train_items.parquet')\n",
    "train.head()"
   ]
  },
  {
   "cell_type": "code",
   "execution_count": 3,
   "id": "c62e0a47",
   "metadata": {},
   "outputs": [
    {
     "data": {
      "text/plain": [
       "0    1\n",
       "1    2\n",
       "2    2\n",
       "3    2\n",
       "4    2\n",
       "Name: date, dtype: int64"
      ]
     },
     "execution_count": 3,
     "metadata": {},
     "output_type": "execute_result"
    }
   ],
   "source": [
    "# train['Weekday'] = train['date'].dt.dayofweek_str\n",
    "train.head()['date'].dt.dayofweek"
   ]
  },
  {
   "cell_type": "code",
   "execution_count": null,
   "id": "c807d974",
   "metadata": {},
   "outputs": [],
   "source": []
  },
  {
   "cell_type": "code",
   "execution_count": 33,
   "id": "a6d28ce3",
   "metadata": {},
   "outputs": [
    {
     "name": "stdout",
     "output_type": "stream",
     "text": [
      "fit 93.08298754692078\n"
     ]
    }
   ],
   "source": [
    "from sklearn.preprocessing import OrdinalEncoder, KBinsDiscretizer\n",
    "from sklearn.pipeline import Pipeline, make_pipeline\n",
    "from sklearn.compose import ColumnTransformer, make_column_transformer\n",
    "import time\n",
    "import cbm\n",
    "\n",
    "from sklearn.base import BaseEstimator, TransformerMixin\n",
    "import calendar\n",
    "\n",
    "class DateEncoder(BaseEstimator, TransformerMixin):\n",
    "    def __init__(self, feature_name, component = 'month' ):\n",
    "        self.feature_name = feature_name\n",
    "        \n",
    "        if component == 'day':\n",
    "            self.categories = calendar.day_abbr\n",
    "            self.column_to_ordinal = lambda col: col.dayofweek.values\n",
    "        elif component == 'month':\n",
    "            self.categories = calendar.month_abbr\n",
    "            self.column_to_ordinal = lambda col: col.month.values\n",
    "        else:\n",
    "            raise ValueError('component must be either day or month')\n",
    "        \n",
    "        self.component = component\n",
    "    \n",
    "    def fit(self, X, y = None):\n",
    "        return self\n",
    "    \n",
    "    def transform(self, X, y = None):\n",
    "        return self.column_to_ordinal(X.iloc[:,0].dt)[:,np.newaxis]\n",
    "\n",
    "# Talk to Ilya about this use-case\n",
    "cats = make_column_transformer(\n",
    "    # TODO: pass pipeline to CBM model + inspect pipeline to correlate for plotting\n",
    "    \n",
    "    # https://scikit-learn.org/stable/modules/generated/sklearn.preprocessing.OrdinalEncoder.html\n",
    "    (OrdinalEncoder(dtype='int', handle_unknown='use_encoded_value', unknown_value=-1), # +1 in CBM code\n",
    "     ['store_nbr', 'item_nbr', 'onpromotion', 'family', 'class', 'perishable']),\n",
    "    \n",
    "    (DateEncoder('month', 'month'), ['date']),\n",
    "    (DateEncoder('day', 'day'),     ['date'])\n",
    "    # https://scikit-learn.org/stable/modules/generated/sklearn.preprocessing.KBinsDiscretizer.html\n",
    "    # (KBinsDiscretizer(n_bins=10, encode='ordinal', dtype='int'),     [''])\n",
    ")\n",
    "\n",
    "cbm = cbm.CBM(learning_rate_step_size=1/64000, min_iterations_early_stopping=2)\n",
    "\n",
    "# pipeline = Pipeline([('preprocessing', cats)])\n",
    "pipeline = make_pipeline(\n",
    "        cats,\n",
    "        cbm\n",
    "    )\n",
    "\n",
    "# model.fit(x_train, train['unit_sales'])\n",
    "# pipeline.fit(train.head(10), train['unit_sales'].head(10))\n",
    "# pipeline.fit(train.head(100000), train['unit_sales'].head(100000))\n",
    "\n",
    "start = time.time()\n",
    "pipeline.fit(train, train['unit_sales'])\n",
    "print(f'fit { time.time() - start}')"
   ]
  },
  {
   "cell_type": "code",
   "execution_count": 46,
   "id": "4acb41a3",
   "metadata": {},
   "outputs": [
    {
     "data": {
      "text/plain": [
       "2500"
      ]
     },
     "execution_count": 46,
     "metadata": {},
     "output_type": "execute_result"
    }
   ],
   "source": [
    "from sklearn.model_selection import TimeSeriesSplit\n",
    "\n",
    "len(next(TimeSeriesSplit(n_splits=3).split(train.head(10000).set_index('date')))[0])"
   ]
  },
  {
   "cell_type": "code",
   "execution_count": null,
   "id": "90c762f1",
   "metadata": {},
   "outputs": [],
   "source": [
    "from sklearn.model_selection import cross_val_score\n",
    "scores = cross_val_score(pipeline, train, train['unit_sales', ])"
   ]
  },
  {
   "cell_type": "code",
   "execution_count": 32,
   "id": "5b8d18ac",
   "metadata": {},
   "outputs": [
    {
     "data": {
      "text/plain": [
       "array([[9.46390226],\n",
       "       [9.46412469],\n",
       "       [9.48171461],\n",
       "       [9.48268984],\n",
       "       [9.46475154]])"
      ]
     },
     "execution_count": 32,
     "metadata": {},
     "output_type": "execute_result"
    }
   ],
   "source": [
    "pipeline.predict(train.head())"
   ]
  },
  {
   "cell_type": "code",
   "execution_count": 18,
   "id": "c6c389af",
   "metadata": {},
   "outputs": [
    {
     "data": {
      "text/plain": [
       "(125497040, 8)"
      ]
     },
     "execution_count": 18,
     "metadata": {},
     "output_type": "execute_result"
    }
   ],
   "source": [
    "train.shape"
   ]
  },
  {
   "cell_type": "code",
   "execution_count": 54,
   "id": "61fca780",
   "metadata": {},
   "outputs": [
    {
     "data": {
      "text/plain": [
       "172197"
      ]
     },
     "execution_count": 54,
     "metadata": {},
     "output_type": "execute_result"
    }
   ],
   "source": [
    "from collections import defaultdict\n",
    "\n",
    "item_store_map = defaultdict(int)\n",
    "\n",
    "# have the first item as back-off\n",
    "item_store_map.update({(row['item_nbr'], row['store_nbr']): idx + 1 for idx, row in train[['item_nbr','store_nbr']].value_counts(ascending=True).reset_index(name='count').query('count > 5').iterrows()})\n",
    "\n",
    "len(item_store_map)"
   ]
  },
  {
   "cell_type": "code",
   "execution_count": 55,
   "id": "3fe9b08f",
   "metadata": {},
   "outputs": [],
   "source": [
    "train['item_store'] = train[['item_nbr','store_nbr']].apply(lambda x: item_store_map[tuple(x)], axis=1)"
   ]
  },
  {
   "cell_type": "code",
   "execution_count": 3,
   "id": "c7a3237f",
   "metadata": {},
   "outputs": [
    {
     "data": {
      "text/html": [
       "<div>\n",
       "<style scoped>\n",
       "    .dataframe tbody tr th:only-of-type {\n",
       "        vertical-align: middle;\n",
       "    }\n",
       "\n",
       "    .dataframe tbody tr th {\n",
       "        vertical-align: top;\n",
       "    }\n",
       "\n",
       "    .dataframe thead th {\n",
       "        text-align: right;\n",
       "    }\n",
       "</style>\n",
       "<table border=\"1\" class=\"dataframe\">\n",
       "  <thead>\n",
       "    <tr style=\"text-align: right;\">\n",
       "      <th></th>\n",
       "      <th>date</th>\n",
       "      <th>store_nbr</th>\n",
       "      <th>item_nbr</th>\n",
       "      <th>unit_sales</th>\n",
       "      <th>onpromotion</th>\n",
       "      <th>family</th>\n",
       "      <th>class</th>\n",
       "      <th>perishable</th>\n",
       "    </tr>\n",
       "  </thead>\n",
       "  <tbody>\n",
       "    <tr>\n",
       "      <th>0</th>\n",
       "      <td>2013-01-01</td>\n",
       "      <td>25</td>\n",
       "      <td>4</td>\n",
       "      <td>7.0</td>\n",
       "      <td>U</td>\n",
       "      <td>BREAD/BAKERY</td>\n",
       "      <td>184</td>\n",
       "      <td>1</td>\n",
       "    </tr>\n",
       "    <tr>\n",
       "      <th>1</th>\n",
       "      <td>2013-01-02</td>\n",
       "      <td>1</td>\n",
       "      <td>4</td>\n",
       "      <td>2.0</td>\n",
       "      <td>U</td>\n",
       "      <td>BREAD/BAKERY</td>\n",
       "      <td>184</td>\n",
       "      <td>1</td>\n",
       "    </tr>\n",
       "    <tr>\n",
       "      <th>2</th>\n",
       "      <td>2013-01-02</td>\n",
       "      <td>2</td>\n",
       "      <td>4</td>\n",
       "      <td>5.0</td>\n",
       "      <td>U</td>\n",
       "      <td>BREAD/BAKERY</td>\n",
       "      <td>184</td>\n",
       "      <td>1</td>\n",
       "    </tr>\n",
       "    <tr>\n",
       "      <th>3</th>\n",
       "      <td>2013-01-02</td>\n",
       "      <td>3</td>\n",
       "      <td>4</td>\n",
       "      <td>6.0</td>\n",
       "      <td>U</td>\n",
       "      <td>BREAD/BAKERY</td>\n",
       "      <td>184</td>\n",
       "      <td>1</td>\n",
       "    </tr>\n",
       "    <tr>\n",
       "      <th>4</th>\n",
       "      <td>2013-01-02</td>\n",
       "      <td>4</td>\n",
       "      <td>4</td>\n",
       "      <td>2.0</td>\n",
       "      <td>U</td>\n",
       "      <td>BREAD/BAKERY</td>\n",
       "      <td>184</td>\n",
       "      <td>1</td>\n",
       "    </tr>\n",
       "  </tbody>\n",
       "</table>\n",
       "</div>"
      ],
      "text/plain": [
       "        date  store_nbr  item_nbr  unit_sales onpromotion        family  \\\n",
       "0 2013-01-01         25         4         7.0           U  BREAD/BAKERY   \n",
       "1 2013-01-02          1         4         2.0           U  BREAD/BAKERY   \n",
       "2 2013-01-02          2         4         5.0           U  BREAD/BAKERY   \n",
       "3 2013-01-02          3         4         6.0           U  BREAD/BAKERY   \n",
       "4 2013-01-02          4         4         2.0           U  BREAD/BAKERY   \n",
       "\n",
       "   class  perishable  \n",
       "0    184           1  \n",
       "1    184           1  \n",
       "2    184           1  \n",
       "3    184           1  \n",
       "4    184           1  "
      ]
     },
     "execution_count": 3,
     "metadata": {},
     "output_type": "execute_result"
    }
   ],
   "source": [
    "train = pd.read_parquet('data/train_items.parquet')\n",
    "\n",
    "class_map = {x: i for i, x in enumerate(np.sort(train['class'].unique()))}\n",
    "item_nbr_map = {x: i for i, x in enumerate(np.sort(train['item_nbr'].unique()))}\n",
    "\n",
    "train['class']    = train['class'].map(class_map)\n",
    "train['item_nbr'] = train['item_nbr'].map(item_nbr_map)\n",
    "\n",
    "train.head()"
   ]
  },
  {
   "cell_type": "code",
   "execution_count": 4,
   "id": "8b7b478c",
   "metadata": {},
   "outputs": [],
   "source": [
    "\n",
    "# # train['unit_sales'] = train['unit_sales'].astype(np.int32)\n",
    "# train[['unit_sales']].to_parquet('data/train_unit_sales.parquet')\n",
    "\n",
    "# x_train = pd.read_parquet('data/train_items_featurized.parquet')\n",
    "# x_train_unit_sales = pd.read_parquet('data/train_unit_sales.parquet')"
   ]
  },
  {
   "cell_type": "code",
   "execution_count": null,
   "id": "7c852782",
   "metadata": {},
   "outputs": [],
   "source": []
  },
  {
   "cell_type": "code",
   "execution_count": null,
   "id": "785a97c4",
   "metadata": {},
   "outputs": [],
   "source": []
  },
  {
   "cell_type": "code",
   "execution_count": 5,
   "id": "5e7fc02a",
   "metadata": {},
   "outputs": [
    {
     "data": {
      "text/plain": [
       "8191095"
      ]
     },
     "execution_count": 5,
     "metadata": {},
     "output_type": "execute_result"
    }
   ],
   "source": [
    "(((train['unit_sales'] * 10) % 10  ) > 0).sum()"
   ]
  },
  {
   "cell_type": "code",
   "execution_count": null,
   "id": "a8534d07",
   "metadata": {},
   "outputs": [],
   "source": []
  },
  {
   "cell_type": "code",
   "execution_count": 6,
   "id": "e8f9d08e",
   "metadata": {},
   "outputs": [
    {
     "data": {
      "text/plain": [
       "0.06526922866069192"
      ]
     },
     "execution_count": 6,
     "metadata": {},
     "output_type": "execute_result"
    }
   ],
   "source": [
    "8191095 / len(train)"
   ]
  },
  {
   "cell_type": "code",
   "execution_count": 7,
   "id": "adfe5485",
   "metadata": {},
   "outputs": [
    {
     "name": "stdout",
     "output_type": "stream",
     "text": [
      "featurize 1.988840103149414\n",
      "train      59.32568883895874\n",
      "iterations 3\n",
      "23.605482539271893\n"
     ]
    }
   ],
   "source": [
    "import cbm\n",
    "import time\n",
    "from sklearn.model_selection import TimeSeriesSplit\n",
    "from sklearn.metrics import mean_squared_error\n",
    "\n",
    "def featurize(df):\n",
    "   return pd.DataFrame({\n",
    "       'store_nbr'    : df['store_nbr'],\n",
    "       'item_nbr'     : df['item_nbr'],\n",
    "       'onpromotion'  : df['onpromotion'],\n",
    "       'family'       : df['family'],\n",
    "       'class'        : df['class'],\n",
    "       'perishable'   : df['perishable'],\n",
    "       'date'         : df['date'],\n",
    "    })\n",
    "\n",
    "start = time.time()\n",
    "\n",
    "x_train = featurize(train)\n",
    "\n",
    "print(f'featurize { time.time() - start}')\n",
    "\n",
    "# enable_bin_count=True) # \n",
    "model = cbm.CBM(learning_rate_step_size=1/64000, min_iterations_early_stopping=2)\n",
    "model.fit(x_train, train['unit_sales'])\n",
    "\n",
    "print(f'train      {time.time() - start}')\n",
    "print(f'iterations {model.iterations}')\n",
    "\n",
    "y_pred_train = model.predict(x_train).flatten()\n",
    "\n",
    "rmsle = mean_squared_error(train['unit_sales'], y_pred_train, squared=False)\n",
    "print(rmsle)\n",
    "\n",
    "# 29sec - for store/item\n",
    "# 76sec - for store/onprom/family/class/perishable - 612k\n",
    "# 589k w/  1/2000 learning rate\n",
    "# 612k w/   1/200\n",
    "# 132  w/  1/4000\n",
    "# 37   w/  1/8000\n",
    "# 25   w/ 1/16000 \n",
    "# 23   w  1/32000 it>=15\n",
    "# 23   w  1/32000 it>=5\n",
    "# 23   w  1/64000 it>=2\n",
    "# 23.60 w 1/64000 it>=2 + item_nbr\n",
    "# 23.60 w 1/64000 it>=2 + item_nbr + date"
   ]
  },
  {
   "cell_type": "code",
   "execution_count": 9,
   "id": "b672d0c7",
   "metadata": {},
   "outputs": [
    {
     "data": {
      "text/plain": [
       "333"
      ]
     },
     "execution_count": 9,
     "metadata": {},
     "output_type": "execute_result"
    }
   ],
   "source": [
    "x_train['class'].max()"
   ]
  },
  {
   "cell_type": "code",
   "execution_count": 10,
   "id": "33d38059",
   "metadata": {},
   "outputs": [
    {
     "data": {
      "text/plain": [
       "4035"
      ]
     },
     "execution_count": 10,
     "metadata": {},
     "output_type": "execute_result"
    }
   ],
   "source": [
    "x_train['item_nbr'].max()"
   ]
  },
  {
   "cell_type": "code",
   "execution_count": 8,
   "id": "09310633",
   "metadata": {},
   "outputs": [],
   "source": [
    "# model.plot_importance(figsize=(20, 20))"
   ]
  },
  {
   "cell_type": "code",
   "execution_count": 45,
   "id": "052d4c10",
   "metadata": {},
   "outputs": [
    {
     "name": "stderr",
     "output_type": "stream",
     "text": [
      "/home/marcozo/miniconda3/envs/cbm/lib/python3.7/site-packages/numpy/lib/arraysetops.py:583: FutureWarning: elementwise comparison failed; returning scalar instead, but in the future will perform elementwise comparison\n",
      "  mask |= (ar1 == a)\n"
     ]
    },
    {
     "data": {
      "text/html": [
       "<div>\n",
       "<style scoped>\n",
       "    .dataframe tbody tr th:only-of-type {\n",
       "        vertical-align: middle;\n",
       "    }\n",
       "\n",
       "    .dataframe tbody tr th {\n",
       "        vertical-align: top;\n",
       "    }\n",
       "\n",
       "    .dataframe thead th {\n",
       "        text-align: right;\n",
       "    }\n",
       "</style>\n",
       "<table border=\"1\" class=\"dataframe\">\n",
       "  <thead>\n",
       "    <tr style=\"text-align: right;\">\n",
       "      <th></th>\n",
       "      <th>date</th>\n",
       "      <th>store_nbr</th>\n",
       "      <th>item_nbr</th>\n",
       "      <th>onpromotion</th>\n",
       "      <th>family</th>\n",
       "      <th>class</th>\n",
       "      <th>perishable</th>\n",
       "    </tr>\n",
       "  </thead>\n",
       "  <tbody>\n",
       "    <tr>\n",
       "      <th>0</th>\n",
       "      <td>2017-08-16</td>\n",
       "      <td>1</td>\n",
       "      <td>0.0</td>\n",
       "      <td>F</td>\n",
       "      <td>GROCERY I</td>\n",
       "      <td>63.0</td>\n",
       "      <td>0</td>\n",
       "    </tr>\n",
       "    <tr>\n",
       "      <th>1</th>\n",
       "      <td>2017-08-16</td>\n",
       "      <td>2</td>\n",
       "      <td>0.0</td>\n",
       "      <td>F</td>\n",
       "      <td>GROCERY I</td>\n",
       "      <td>63.0</td>\n",
       "      <td>0</td>\n",
       "    </tr>\n",
       "    <tr>\n",
       "      <th>2</th>\n",
       "      <td>2017-08-16</td>\n",
       "      <td>3</td>\n",
       "      <td>0.0</td>\n",
       "      <td>F</td>\n",
       "      <td>GROCERY I</td>\n",
       "      <td>63.0</td>\n",
       "      <td>0</td>\n",
       "    </tr>\n",
       "    <tr>\n",
       "      <th>3</th>\n",
       "      <td>2017-08-16</td>\n",
       "      <td>4</td>\n",
       "      <td>0.0</td>\n",
       "      <td>F</td>\n",
       "      <td>GROCERY I</td>\n",
       "      <td>63.0</td>\n",
       "      <td>0</td>\n",
       "    </tr>\n",
       "    <tr>\n",
       "      <th>4</th>\n",
       "      <td>2017-08-16</td>\n",
       "      <td>5</td>\n",
       "      <td>0.0</td>\n",
       "      <td>F</td>\n",
       "      <td>GROCERY I</td>\n",
       "      <td>63.0</td>\n",
       "      <td>0</td>\n",
       "    </tr>\n",
       "  </tbody>\n",
       "</table>\n",
       "</div>"
      ],
      "text/plain": [
       "        date  store_nbr  item_nbr onpromotion     family  class  perishable\n",
       "0 2017-08-16          1       0.0           F  GROCERY I   63.0           0\n",
       "1 2017-08-16          2       0.0           F  GROCERY I   63.0           0\n",
       "2 2017-08-16          3       0.0           F  GROCERY I   63.0           0\n",
       "3 2017-08-16          4       0.0           F  GROCERY I   63.0           0\n",
       "4 2017-08-16          5       0.0           F  GROCERY I   63.0           0"
      ]
     },
     "execution_count": 45,
     "metadata": {},
     "output_type": "execute_result"
    }
   ],
   "source": [
    "items = pd.read_csv('data/items.csv')\n",
    "\n",
    "test = pd.read_csv('data/test.csv',\n",
    "            parse_dates=['date'], \n",
    "            index_col='id', \n",
    "            dtype={\n",
    "                # 'date': np.datetime64, \n",
    "                'store_nbr': np.short,\n",
    "                'item_nbr': np.int64,\n",
    "                'unit_sales': np.float64\n",
    "            },\n",
    ").merge(items)\n",
    "\n",
    "test['onpromotion'] = test['onpromotion'].map({True: 'T', False: 'F'})\n",
    "test['class']       = test['class'].map(class_map)\n",
    "test['item_nbr']    = test['item_nbr'].map(item_nbr_map)\n",
    "\n",
    "test.head()"
   ]
  },
  {
   "cell_type": "code",
   "execution_count": 53,
   "id": "c4a482dc",
   "metadata": {},
   "outputs": [
    {
     "data": {
      "text/html": [
       "<div>\n",
       "<style scoped>\n",
       "    .dataframe tbody tr th:only-of-type {\n",
       "        vertical-align: middle;\n",
       "    }\n",
       "\n",
       "    .dataframe tbody tr th {\n",
       "        vertical-align: top;\n",
       "    }\n",
       "\n",
       "    .dataframe thead th {\n",
       "        text-align: right;\n",
       "    }\n",
       "</style>\n",
       "<table border=\"1\" class=\"dataframe\">\n",
       "  <thead>\n",
       "    <tr style=\"text-align: right;\">\n",
       "      <th></th>\n",
       "      <th>date</th>\n",
       "      <th>store_nbr</th>\n",
       "      <th>item_nbr</th>\n",
       "      <th>onpromotion</th>\n",
       "      <th>family</th>\n",
       "      <th>class</th>\n",
       "      <th>perishable</th>\n",
       "    </tr>\n",
       "  </thead>\n",
       "  <tbody>\n",
       "  </tbody>\n",
       "</table>\n",
       "</div>"
      ],
      "text/plain": [
       "Empty DataFrame\n",
       "Columns: [date, store_nbr, item_nbr, onpromotion, family, class, perishable]\n",
       "Index: []"
      ]
     },
     "execution_count": 53,
     "metadata": {},
     "output_type": "execute_result"
    }
   ],
   "source": [
    "# TODO: handle NA by multiplying by 1\n",
    "test['item_nbr'] = test['item_nbr'].fillna(0).astype(int)\n",
    "test['class']    = test['class']   .fillna(0).astype(int)\n",
    "test[test.isna().any(axis=1)]"
   ]
  },
  {
   "cell_type": "code",
   "execution_count": 12,
   "id": "78377989",
   "metadata": {},
   "outputs": [],
   "source": [
    "# class_cats = train_raw['class'].astype('category').cat.categories.tolist()\n",
    "\n",
    "# test['class'] = test['class'].astype(pd.CategoricalDtype(categories=class_cats, ordered=True)).cat.codes\n",
    "# test.head()"
   ]
  },
  {
   "cell_type": "code",
   "execution_count": 54,
   "id": "288bb676",
   "metadata": {},
   "outputs": [
    {
     "data": {
      "text/html": [
       "<div>\n",
       "<style scoped>\n",
       "    .dataframe tbody tr th:only-of-type {\n",
       "        vertical-align: middle;\n",
       "    }\n",
       "\n",
       "    .dataframe tbody tr th {\n",
       "        vertical-align: top;\n",
       "    }\n",
       "\n",
       "    .dataframe thead th {\n",
       "        text-align: right;\n",
       "    }\n",
       "</style>\n",
       "<table border=\"1\" class=\"dataframe\">\n",
       "  <thead>\n",
       "    <tr style=\"text-align: right;\">\n",
       "      <th></th>\n",
       "      <th>store_nbr</th>\n",
       "      <th>item_nbr</th>\n",
       "      <th>onpromotion</th>\n",
       "      <th>family</th>\n",
       "      <th>class</th>\n",
       "      <th>perishable</th>\n",
       "      <th>date</th>\n",
       "    </tr>\n",
       "  </thead>\n",
       "  <tbody>\n",
       "    <tr>\n",
       "      <th>0</th>\n",
       "      <td>1</td>\n",
       "      <td>0</td>\n",
       "      <td>F</td>\n",
       "      <td>GROCERY I</td>\n",
       "      <td>63</td>\n",
       "      <td>0</td>\n",
       "      <td>2017-08-16</td>\n",
       "    </tr>\n",
       "    <tr>\n",
       "      <th>1</th>\n",
       "      <td>2</td>\n",
       "      <td>0</td>\n",
       "      <td>F</td>\n",
       "      <td>GROCERY I</td>\n",
       "      <td>63</td>\n",
       "      <td>0</td>\n",
       "      <td>2017-08-16</td>\n",
       "    </tr>\n",
       "    <tr>\n",
       "      <th>2</th>\n",
       "      <td>3</td>\n",
       "      <td>0</td>\n",
       "      <td>F</td>\n",
       "      <td>GROCERY I</td>\n",
       "      <td>63</td>\n",
       "      <td>0</td>\n",
       "      <td>2017-08-16</td>\n",
       "    </tr>\n",
       "    <tr>\n",
       "      <th>3</th>\n",
       "      <td>4</td>\n",
       "      <td>0</td>\n",
       "      <td>F</td>\n",
       "      <td>GROCERY I</td>\n",
       "      <td>63</td>\n",
       "      <td>0</td>\n",
       "      <td>2017-08-16</td>\n",
       "    </tr>\n",
       "    <tr>\n",
       "      <th>4</th>\n",
       "      <td>5</td>\n",
       "      <td>0</td>\n",
       "      <td>F</td>\n",
       "      <td>GROCERY I</td>\n",
       "      <td>63</td>\n",
       "      <td>0</td>\n",
       "      <td>2017-08-16</td>\n",
       "    </tr>\n",
       "  </tbody>\n",
       "</table>\n",
       "</div>"
      ],
      "text/plain": [
       "   store_nbr  item_nbr onpromotion     family  class  perishable       date\n",
       "0          1         0           F  GROCERY I     63           0 2017-08-16\n",
       "1          2         0           F  GROCERY I     63           0 2017-08-16\n",
       "2          3         0           F  GROCERY I     63           0 2017-08-16\n",
       "3          4         0           F  GROCERY I     63           0 2017-08-16\n",
       "4          5         0           F  GROCERY I     63           0 2017-08-16"
      ]
     },
     "execution_count": 54,
     "metadata": {},
     "output_type": "execute_result"
    }
   ],
   "source": [
    "x_test = featurize(test)\n",
    "x_test.head()"
   ]
  },
  {
   "cell_type": "code",
   "execution_count": 55,
   "id": "e2f2f2e7",
   "metadata": {},
   "outputs": [
    {
     "data": {
      "text/plain": [
       "array([[8.67074847, 1.00170424, 1.00180464, ..., 1.00164436, 1.00164009,\n",
       "        1.00161252],\n",
       "       [8.67054548, 1.00168079, 1.00180464, ..., 1.00164436, 1.00164009,\n",
       "        1.00161252],\n",
       "       [8.67063081, 1.00169065, 1.00180464, ..., 1.00164436, 1.00164009,\n",
       "        1.00161252],\n",
       "       ...,\n",
       "       [8.67042574, 1.00148041, 1.00180464, ..., 1.00164436, 1.0016697 ,\n",
       "        1.00161252],\n",
       "       [8.67126881, 1.00157779, 1.00180464, ..., 1.00164436, 1.0016697 ,\n",
       "        1.00161252],\n",
       "       [8.67073749, 1.00151642, 1.00180464, ..., 1.00164436, 1.0016697 ,\n",
       "        1.00161252]])"
      ]
     },
     "execution_count": 55,
     "metadata": {},
     "output_type": "execute_result"
    }
   ],
   "source": [
    "y_pred_test = model.predict(x_test, explain=True) #.flatten()\n",
    "y_pred_test"
   ]
  },
  {
   "cell_type": "code",
   "execution_count": 57,
   "id": "6483a859",
   "metadata": {},
   "outputs": [
    {
     "data": {
      "text/plain": [
       "8.666806    21\n",
       "8.666954    21\n",
       "8.666864    21\n",
       "8.667392    21\n",
       "8.666751    21\n",
       "            ..\n",
       "8.656977     1\n",
       "8.659257     1\n",
       "8.656693     1\n",
       "8.656806     1\n",
       "8.641494     1\n",
       "Length: 1538737, dtype: int64"
      ]
     },
     "execution_count": 57,
     "metadata": {},
     "output_type": "execute_result"
    }
   ],
   "source": [
    "pd.Series(y_pred_test[:,0].flatten()).value_counts()"
   ]
  },
  {
   "cell_type": "code",
   "execution_count": 58,
   "id": "2798c44f",
   "metadata": {},
   "outputs": [],
   "source": [
    "y_pred_test = model.predict(x_test)"
   ]
  },
  {
   "cell_type": "code",
   "execution_count": 64,
   "id": "d3d53829",
   "metadata": {},
   "outputs": [],
   "source": [
    "test[['unit_sales']].index.rename('id', inplace=True)"
   ]
  },
  {
   "cell_type": "code",
   "execution_count": 65,
   "id": "5ae1ac1b",
   "metadata": {},
   "outputs": [],
   "source": [
    "test['unit_sales'] = y_pred_test\n",
    "test[['unit_sales']].to_csv('submission.csv', index=True)"
   ]
  },
  {
   "cell_type": "code",
   "execution_count": 66,
   "id": "1f3c2e53",
   "metadata": {},
   "outputs": [
    {
     "name": "stdout",
     "output_type": "stream",
     "text": [
      "id,unit_sales\r\n",
      "0,8.670748466911578\r\n",
      "1,8.670545482030695\r\n",
      "2,8.670630814956288\r\n",
      "3,8.67052676822758\r\n",
      "4,8.66955171527891\r\n",
      "5,8.670202952780572\r\n",
      "6,8.670841233962294\r\n",
      "7,8.670437318412505\r\n",
      "8,8.669850978368242\r\n"
     ]
    }
   ],
   "source": [
    "!head submission.csv"
   ]
  },
  {
   "cell_type": "code",
   "execution_count": 20,
   "id": "db2247b6",
   "metadata": {},
   "outputs": [
    {
     "data": {
      "text/plain": [
       "8.665899    28\n",
       "8.649263    26\n",
       "8.649260    26\n",
       "8.649381    24\n",
       "8.649342    22\n",
       "            ..\n",
       "8.652211     1\n",
       "8.659009     1\n",
       "8.664719     1\n",
       "8.652154     1\n",
       "8.634132     1\n",
       "Length: 20537444, dtype: int64"
      ]
     },
     "execution_count": 20,
     "metadata": {},
     "output_type": "execute_result"
    }
   ],
   "source": [
    "pd.Series(y_pred_train).value_counts()"
   ]
  },
  {
   "cell_type": "code",
   "execution_count": 67,
   "id": "6c9e45a5",
   "metadata": {},
   "outputs": [
    {
     "name": "stdout",
     "output_type": "stream",
     "text": [
      "100%|██████████████████████████████████████| 81.9M/81.9M [00:21<00:00, 3.94MB/s]\n",
      "Successfully submitted to Corporación Favorita Grocery Sales Forecasting"
     ]
    }
   ],
   "source": [
    "!kaggle competitions submit -c favorita-grocery-sales-forecasting -f submission.csv -m v1"
   ]
  }
 ],
 "metadata": {
  "kernelspec": {
   "display_name": "Python 3 (ipykernel)",
   "language": "python",
   "name": "python3"
  },
  "language_info": {
   "codemirror_mode": {
    "name": "ipython",
    "version": 3
   },
   "file_extension": ".py",
   "mimetype": "text/x-python",
   "name": "python",
   "nbconvert_exporter": "python",
   "pygments_lexer": "ipython3",
   "version": "3.7.11"
  }
 },
 "nbformat": 4,
 "nbformat_minor": 5
}

{
 "cells": [
  {
   "cell_type": "code",
   "execution_count": 1,
   "id": "2a36103a",
   "metadata": {},
   "outputs": [
    {
     "data": {
      "text/html": [
       "<style>.container { width:100% !important; }</style>"
      ],
      "text/plain": [
       "<IPython.core.display.HTML object>"
      ]
     },
     "metadata": {},
     "output_type": "display_data"
    },
    {
     "data": {
      "text/html": [
       "<style>.output_result { max-width:100% !important; }</style>"
      ],
      "text/plain": [
       "<IPython.core.display.HTML object>"
      ]
     },
     "metadata": {},
     "output_type": "display_data"
    },
    {
     "data": {
      "text/html": [
       "<style>.prompt { display:none !important; }</style>"
      ],
      "text/plain": [
       "<IPython.core.display.HTML object>"
      ]
     },
     "metadata": {},
     "output_type": "display_data"
    }
   ],
   "source": [
    "%load_ext autoreload\n",
    "%autoreload 2\n",
    "\n",
    "import numpy as np\n",
    "import pandas as pd\n",
    "import matplotlib.pyplot as plt\n",
    "\n",
    "from IPython.core.display import display, HTML\n",
    "display(HTML(\"<style>.container { width:100% !important; }</style>\"))\n",
    "display(HTML(\"<style>.output_result { max-width:100% !important; }</style>\"))\n",
    "display(HTML(\"<style>.prompt { display:none !important; }</style>\"))"
   ]
  },
  {
   "cell_type": "code",
   "execution_count": 2,
   "id": "04b0763f",
   "metadata": {},
   "outputs": [],
   "source": [
    "# \n",
    "# train = pd.read_csv('data/train.csv', \n",
    "#                     parse_dates=['date'], \n",
    "#                     index_col='id', \n",
    "#                     dtype={\n",
    "#                         # 'date': np.datetime64, \n",
    "#                         'store_nbr': np.short,\n",
    "#                         'item_nbr': np.int64,\n",
    "#                         'unit_sales': np.float64\n",
    "#                     },\n",
    "#                     converters={'onpromotion': lambda x: 'T' if x == 'True' else ('F' if x == 'False' else 'U')}\n",
    "#                    )\n",
    "#\n",
    "# train.merge(items).to_parquet('data/train_items.parquet')\n",
    "# train['class'] = train['class'].astype('str')\n",
    "# train['item_nbr'] = train['item_nbr'].astype('str')\n",
    "# train.to_parquet('data/train.parquet')"
   ]
  },
  {
   "cell_type": "code",
   "execution_count": 14,
   "id": "7412ac39",
   "metadata": {},
   "outputs": [
    {
     "data": {
      "text/html": [
       "<div>\n",
       "<style scoped>\n",
       "    .dataframe tbody tr th:only-of-type {\n",
       "        vertical-align: middle;\n",
       "    }\n",
       "\n",
       "    .dataframe tbody tr th {\n",
       "        vertical-align: top;\n",
       "    }\n",
       "\n",
       "    .dataframe thead th {\n",
       "        text-align: right;\n",
       "    }\n",
       "</style>\n",
       "<table border=\"1\" class=\"dataframe\">\n",
       "  <thead>\n",
       "    <tr style=\"text-align: right;\">\n",
       "      <th></th>\n",
       "      <th>date</th>\n",
       "      <th>store_nbr</th>\n",
       "      <th>item_nbr</th>\n",
       "      <th>unit_sales</th>\n",
       "      <th>onpromotion</th>\n",
       "      <th>family</th>\n",
       "      <th>class</th>\n",
       "      <th>perishable</th>\n",
       "    </tr>\n",
       "  </thead>\n",
       "  <tbody>\n",
       "    <tr>\n",
       "      <th>0</th>\n",
       "      <td>2013-01-01</td>\n",
       "      <td>25</td>\n",
       "      <td>103665</td>\n",
       "      <td>7.0</td>\n",
       "      <td>U</td>\n",
       "      <td>BREAD/BAKERY</td>\n",
       "      <td>2712</td>\n",
       "      <td>1</td>\n",
       "    </tr>\n",
       "    <tr>\n",
       "      <th>1</th>\n",
       "      <td>2013-01-02</td>\n",
       "      <td>1</td>\n",
       "      <td>103665</td>\n",
       "      <td>2.0</td>\n",
       "      <td>U</td>\n",
       "      <td>BREAD/BAKERY</td>\n",
       "      <td>2712</td>\n",
       "      <td>1</td>\n",
       "    </tr>\n",
       "    <tr>\n",
       "      <th>2</th>\n",
       "      <td>2013-01-02</td>\n",
       "      <td>2</td>\n",
       "      <td>103665</td>\n",
       "      <td>5.0</td>\n",
       "      <td>U</td>\n",
       "      <td>BREAD/BAKERY</td>\n",
       "      <td>2712</td>\n",
       "      <td>1</td>\n",
       "    </tr>\n",
       "    <tr>\n",
       "      <th>3</th>\n",
       "      <td>2013-01-02</td>\n",
       "      <td>3</td>\n",
       "      <td>103665</td>\n",
       "      <td>6.0</td>\n",
       "      <td>U</td>\n",
       "      <td>BREAD/BAKERY</td>\n",
       "      <td>2712</td>\n",
       "      <td>1</td>\n",
       "    </tr>\n",
       "    <tr>\n",
       "      <th>4</th>\n",
       "      <td>2013-01-02</td>\n",
       "      <td>4</td>\n",
       "      <td>103665</td>\n",
       "      <td>2.0</td>\n",
       "      <td>U</td>\n",
       "      <td>BREAD/BAKERY</td>\n",
       "      <td>2712</td>\n",
       "      <td>1</td>\n",
       "    </tr>\n",
       "  </tbody>\n",
       "</table>\n",
       "</div>"
      ],
      "text/plain": [
       "        date  store_nbr  item_nbr  unit_sales onpromotion        family  \\\n",
       "0 2013-01-01         25    103665         7.0           U  BREAD/BAKERY   \n",
       "1 2013-01-02          1    103665         2.0           U  BREAD/BAKERY   \n",
       "2 2013-01-02          2    103665         5.0           U  BREAD/BAKERY   \n",
       "3 2013-01-02          3    103665         6.0           U  BREAD/BAKERY   \n",
       "4 2013-01-02          4    103665         2.0           U  BREAD/BAKERY   \n",
       "\n",
       "   class  perishable  \n",
       "0   2712           1  \n",
       "1   2712           1  \n",
       "2   2712           1  \n",
       "3   2712           1  \n",
       "4   2712           1  "
      ]
     },
     "execution_count": 14,
     "metadata": {},
     "output_type": "execute_result"
    }
   ],
   "source": [
    "# scikit-based\n",
    "\n",
    "train_all = pd.read_parquet('data/train_items.parquet')\n",
    "train_all.head()"
   ]
  },
  {
   "cell_type": "code",
   "execution_count": 15,
   "id": "9400687b",
   "metadata": {},
   "outputs": [
    {
     "data": {
      "text/plain": [
       "(125497040, 8)"
      ]
     },
     "execution_count": 15,
     "metadata": {},
     "output_type": "execute_result"
    }
   ],
   "source": [
    "train_all.shape"
   ]
  },
  {
   "cell_type": "code",
   "execution_count": 3,
   "id": "c62e0a47",
   "metadata": {},
   "outputs": [
    {
     "data": {
      "text/plain": [
       "0    1\n",
       "1    2\n",
       "2    2\n",
       "3    2\n",
       "4    2\n",
       "Name: date, dtype: int64"
      ]
     },
     "execution_count": 3,
     "metadata": {},
     "output_type": "execute_result"
    }
   ],
   "source": [
    "# train['Weekday'] = train['date'].dt.dayofweek_str\n",
    "train.head()['date'].dt.dayofweek"
   ]
  },
  {
   "cell_type": "code",
   "execution_count": 9,
   "id": "dad0788e",
   "metadata": {},
   "outputs": [],
   "source": [
    "from sklearn.model_selection import TimeSeriesSplit\n",
    "from sklearn.utils import indexable\n",
    "\n",
    "from datetime import datetime, timedelta\n",
    "\n",
    "# TODO\n",
    "class TemporalSplit(TimeSeriesSplit):\n",
    "    def __init__(self, step=timedelta(days=1), n_splits=5, *, max_train_size=None, test_size=None, gap=0):\n",
    "        super().__init__(n_splits)\n",
    "        self.step = step\n",
    "        self.max_train_size = max_train_size\n",
    "        self.test_size = test_size\n",
    "        self.gap = gap\n",
    "\n",
    "    def _create_date_ranges(self, start, end, step):\n",
    "        start_ = start\n",
    "        while start_ < end:\n",
    "            end_ = start_ + step\n",
    "            yield start_\n",
    "            start_ = end_\n",
    "            \n",
    "    def split(self, X, y=None, groups=None):\n",
    "        \"\"\"Generate indices to split data into training and test set.\n",
    "        Parameters\n",
    "        ----------\n",
    "        X : array-like of shape (n_samples, n_features)\n",
    "            Training data, where `n_samples` is the number of samples\n",
    "            and `n_features` is the number of features.\n",
    "        y : array-like of shape (n_samples,)\n",
    "            Always ignored, exists for compatibility.\n",
    "        groups : array-like of shape (n_samples,)\n",
    "            Always ignored, exists for compatibility.\n",
    "        Yields\n",
    "        ------\n",
    "        train : ndarray\n",
    "            The training set indices for that split.\n",
    "        test : ndarray\n",
    "            The testing set indices for that split.\n",
    "        \"\"\"\n",
    "        X, y, groups = indexable(X, y, groups)\n",
    "        \n",
    "        date_range = list(self._create_date_ranges(X.index.min(), X.index.max(), self.step))\n",
    "        n_samples =  len(date_range)\n",
    "        n_splits = self.n_splits\n",
    "        n_folds = n_splits + 1\n",
    "        gap = self.gap\n",
    "        test_size = (\n",
    "            self.test_size if self.test_size is not None else n_samples // n_folds\n",
    "        )\n",
    "\n",
    "        # Make sure we have enough samples for the given split parameters\n",
    "        if n_folds > n_samples:\n",
    "            raise ValueError(\n",
    "                f\"Cannot have number of folds={n_folds} greater\"\n",
    "                f\" than the number of samples={n_samples}.\"\n",
    "            )\n",
    "        if n_samples - gap - (test_size * n_splits) <= 0:\n",
    "            raise ValueError(\n",
    "                f\"Too many splits={n_splits} for number of samples\"\n",
    "                f\"={n_samples} with test_size={test_size} and gap={gap}.\"\n",
    "            )\n",
    "\n",
    "        # indices = np.arange(n_samples)\n",
    "        test_starts = range(n_samples - n_splits * test_size, n_samples, test_size)\n",
    "\n",
    "        for test_start in test_starts:\n",
    "            train_end = test_start - gap\n",
    "            if self.max_train_size and self.max_train_size < train_end:\n",
    "                yield (\n",
    "                    # TODO: unit test\n",
    "                    # TODO: not sure why np.where returns a tuple.\n",
    "                    np.where(np.logical_and(X.index >= date_range[train_end - self.max_train_size], X.index <= date_range[train_end - 1]))[0],\n",
    "                    np.where(np.logical_and(X.index >= date_range[test_start], X.index <= date_range[test_start + test_size - 1]))[0]\n",
    "                    # indices[train_end - self.max_train_size : train_end],\n",
    "                    # indices[test_start : test_start + test_size],\n",
    "                )\n",
    "            else:\n",
    "                yield (\n",
    "                    np.where(X.index < date_range[train_end])[0],\n",
    "                    np.where(np.logical_and(X.index >= date_range[test_start], X.index <= date_range[test_start + test_size - 1]))[0]\n",
    "                    # indices[:train_end],\n",
    "                    # indices[test_start : test_start + test_size],\n",
    "                )\n",
    "\n",
    "# cv = list(TemporalSplit(n_splits=3, test_size=100).split(train_idx))\n",
    "# for s in cv:\n",
    "#     print(s[0])\n",
    "#     print(s[0][0])\n",
    "#     print(f'Train: {train_idx.iloc[s[0]].index.min()} - {train_idx.iloc[s[0]].index.max()}')\n",
    "#     print(f'Test:  {train_idx.iloc[s[1]].index.min()} - {train_idx.iloc[s[1]].index.max()}')\n",
    "#     print()\n",
    "    \n",
    "# cv = list(TimeSeriesSplit(n_splits=3, test_size=100).split(train_idx))\n",
    "# for s in cv:\n",
    "#     print(s[0])\n",
    "#     print(s[0][0])\n",
    "#     print(f'Train: {train_idx.iloc[s[0]].index.min()} - {train_idx.iloc[s[0]].index.max()}')\n",
    "#     print(f'Test:  {train_idx.iloc[s[1]].index.min()} - {train_idx.iloc[s[1]].index.max()}')\n",
    "#     print()"
   ]
  },
  {
   "cell_type": "code",
   "execution_count": 101,
   "id": "c807d974",
   "metadata": {},
   "outputs": [
    {
     "data": {
      "text/html": [
       "<div>\n",
       "<style scoped>\n",
       "    .dataframe tbody tr th:only-of-type {\n",
       "        vertical-align: middle;\n",
       "    }\n",
       "\n",
       "    .dataframe tbody tr th {\n",
       "        vertical-align: top;\n",
       "    }\n",
       "\n",
       "    .dataframe thead th {\n",
       "        text-align: right;\n",
       "    }\n",
       "</style>\n",
       "<table border=\"1\" class=\"dataframe\">\n",
       "  <thead>\n",
       "    <tr style=\"text-align: right;\">\n",
       "      <th></th>\n",
       "      <th>date</th>\n",
       "      <th>store_nbr</th>\n",
       "      <th>item_nbr</th>\n",
       "      <th>unit_sales</th>\n",
       "      <th>onpromotion</th>\n",
       "      <th>family</th>\n",
       "      <th>class</th>\n",
       "      <th>perishable</th>\n",
       "    </tr>\n",
       "    <tr>\n",
       "      <th>date</th>\n",
       "      <th></th>\n",
       "      <th></th>\n",
       "      <th></th>\n",
       "      <th></th>\n",
       "      <th></th>\n",
       "      <th></th>\n",
       "      <th></th>\n",
       "      <th></th>\n",
       "    </tr>\n",
       "  </thead>\n",
       "  <tbody>\n",
       "    <tr>\n",
       "      <th>2013-01-01</th>\n",
       "      <td>2013-01-01</td>\n",
       "      <td>25</td>\n",
       "      <td>638327</td>\n",
       "      <td>2.0</td>\n",
       "      <td>U</td>\n",
       "      <td>GROCERY I</td>\n",
       "      <td>1084</td>\n",
       "      <td>0</td>\n",
       "    </tr>\n",
       "    <tr>\n",
       "      <th>2013-01-01</th>\n",
       "      <td>2013-01-01</td>\n",
       "      <td>25</td>\n",
       "      <td>464385</td>\n",
       "      <td>7.0</td>\n",
       "      <td>U</td>\n",
       "      <td>BREAD/BAKERY</td>\n",
       "      <td>2718</td>\n",
       "      <td>1</td>\n",
       "    </tr>\n",
       "    <tr>\n",
       "      <th>2013-01-01</th>\n",
       "      <td>2013-01-01</td>\n",
       "      <td>25</td>\n",
       "      <td>360314</td>\n",
       "      <td>5.0</td>\n",
       "      <td>U</td>\n",
       "      <td>BREAD/BAKERY</td>\n",
       "      <td>2702</td>\n",
       "      <td>1</td>\n",
       "    </tr>\n",
       "    <tr>\n",
       "      <th>2013-01-01</th>\n",
       "      <td>2013-01-01</td>\n",
       "      <td>25</td>\n",
       "      <td>557256</td>\n",
       "      <td>10.0</td>\n",
       "      <td>U</td>\n",
       "      <td>EGGS</td>\n",
       "      <td>2502</td>\n",
       "      <td>1</td>\n",
       "    </tr>\n",
       "    <tr>\n",
       "      <th>2013-01-01</th>\n",
       "      <td>2013-01-01</td>\n",
       "      <td>25</td>\n",
       "      <td>358515</td>\n",
       "      <td>2.0</td>\n",
       "      <td>U</td>\n",
       "      <td>GROCERY I</td>\n",
       "      <td>1024</td>\n",
       "      <td>0</td>\n",
       "    </tr>\n",
       "  </tbody>\n",
       "</table>\n",
       "</div>"
      ],
      "text/plain": [
       "                 date  store_nbr  item_nbr  unit_sales onpromotion  \\\n",
       "date                                                                 \n",
       "2013-01-01 2013-01-01         25    638327         2.0           U   \n",
       "2013-01-01 2013-01-01         25    464385         7.0           U   \n",
       "2013-01-01 2013-01-01         25    360314         5.0           U   \n",
       "2013-01-01 2013-01-01         25    557256        10.0           U   \n",
       "2013-01-01 2013-01-01         25    358515         2.0           U   \n",
       "\n",
       "                  family  class  perishable  \n",
       "date                                         \n",
       "2013-01-01     GROCERY I   1084           0  \n",
       "2013-01-01  BREAD/BAKERY   2718           1  \n",
       "2013-01-01  BREAD/BAKERY   2702           1  \n",
       "2013-01-01          EGGS   2502           1  \n",
       "2013-01-01     GROCERY I   1024           0  "
      ]
     },
     "execution_count": 101,
     "metadata": {},
     "output_type": "execute_result"
    }
   ],
   "source": [
    "train = train_all.sample(int(10e6))\n",
    "train = train.set_index('date', drop=False).sort_index()\n",
    "train.loc[train['unit_sales'] < 0, 'unit_sales'] = 0\n",
    "train.head()"
   ]
  },
  {
   "cell_type": "code",
   "execution_count": 130,
   "id": "890b23a1",
   "metadata": {},
   "outputs": [
    {
     "data": {
      "text/plain": [
       "(10000000, 8)"
      ]
     },
     "execution_count": 130,
     "metadata": {},
     "output_type": "execute_result"
    }
   ],
   "source": [
    "# train = train_all.copy()\n",
    "# train = train.set_index('date', drop=False).sort_index()\n",
    "# train.loc[train['unit_sales'] < 0, 'unit_sales'] = 0\n",
    "\n",
    "train.shape"
   ]
  },
  {
   "cell_type": "code",
   "execution_count": 134,
   "id": "a6d28ce3",
   "metadata": {},
   "outputs": [
    {
     "name": "stdout",
     "output_type": "stream",
     "text": [
      "cross-val 53.315948724746704\n",
      "[0.76249221 0.74114169 0.73643648]\n"
     ]
    }
   ],
   "source": [
    "from sklearn.preprocessing import OrdinalEncoder, KBinsDiscretizer\n",
    "from sklearn.pipeline import Pipeline, make_pipeline\n",
    "from sklearn.compose import ColumnTransformer, make_column_transformer\n",
    "import time\n",
    "import cbm\n",
    "from sklearn.metrics import mean_squared_error, make_scorer, mean_squared_log_error\n",
    "from sklearn.model_selection import cross_val_score\n",
    "from sklearn.base import BaseEstimator, TransformerMixin\n",
    "import calendar\n",
    "\n",
    "class DateEncoder(BaseEstimator, TransformerMixin):\n",
    "    def __init__(self, feature_name, component = 'month' ):\n",
    "        self.feature_name = feature_name\n",
    "        \n",
    "        if component == 'day':\n",
    "            self.categories = calendar.day_abbr\n",
    "            self.column_to_ordinal = lambda col: col.dayofweek.values\n",
    "        elif component == 'month':\n",
    "            self.categories = calendar.month_abbr\n",
    "            self.column_to_ordinal = lambda col: col.month.values\n",
    "        else:\n",
    "            raise ValueError('component must be either day or month')\n",
    "        \n",
    "        self.component = component\n",
    "    \n",
    "    def fit(self, X, y = None):\n",
    "        return self\n",
    "    \n",
    "    def transform(self, X, y = None):\n",
    "        return self.column_to_ordinal(X.iloc[:,0].dt)[:,np.newaxis]\n",
    "\n",
    "# Talk to Ilya about this use-case\n",
    "cats = make_column_transformer(\n",
    "    # TODO: pass pipeline to CBM model + inspect pipeline to correlate for plotting\n",
    "    \n",
    "    # https://scikit-learn.org/stable/modules/generated/sklearn.preprocessing.OrdinalEncoder.html\n",
    "    (OrdinalEncoder(dtype='int', handle_unknown='use_encoded_value', unknown_value=-1), # +1 in CBM code\n",
    "     ['store_nbr', 'item_nbr', 'onpromotion', 'family', 'class', 'perishable']),\n",
    "       \n",
    "    (DateEncoder('month', 'month'), ['date']),\n",
    "    (DateEncoder('day', 'day'),     ['date'])\n",
    "    # https://scikit-learn.org/stable/modules/generated/sklearn.preprocessing.KBinsDiscretizer.html\n",
    "    # (KBinsDiscretizer(n_bins=10, encode='ordinal', dtype='int'),     [''])\n",
    ")\n",
    "\n",
    "cbm = cbm.CBM(learning_rate_step_size=1/500, min_iterations_early_stopping=10)\n",
    "\n",
    "pipeline = make_pipeline(\n",
    "        cats,\n",
    "        cbm\n",
    "    )\n",
    "\n",
    "# model.fit(x_train, train['unit_sales'])\n",
    "# pipeline.fit(train.head(10), train['unit_sales'].head(10))\n",
    "# pipeline.fit(train.head(100000), train['unit_sales'].head(100000))\n",
    "\n",
    "\n",
    "# pipeline.fit(train, train['unit_sales'])\n",
    "# \n",
    "\n",
    "# from sklearn.model_selection import cross_val_score\n",
    "\n",
    "start = time.time()\n",
    "scores = cross_val_score(pipeline, train, train['unit_sales'], \n",
    "                         scoring=make_scorer(mean_squared_log_error, squared=False), \n",
    "                         cv=TemporalSplit(n_splits=3, test_size=90),\n",
    "                         n_jobs=-1\n",
    "                        )\n",
    "\n",
    "print(f'cross-val { time.time() - start}')\n",
    "print(scores)"
   ]
  },
  {
   "cell_type": "code",
   "execution_count": 31,
   "id": "38c5c7be",
   "metadata": {},
   "outputs": [
    {
     "data": {
      "text/plain": [
       "0"
      ]
     },
     "execution_count": 31,
     "metadata": {},
     "output_type": "execute_result"
    }
   ],
   "source": [
    "(train['unit_sales'] < 0).sum()\n",
    "\n",
    "cross-val 53.586721658706665\n",
    "[0.76333752 0.74206952 0.73735652]"
   ]
  },
  {
   "cell_type": "code",
   "execution_count": 9,
   "id": "4d762437",
   "metadata": {},
   "outputs": [
    {
     "data": {
      "text/plain": [
       "1"
      ]
     },
     "execution_count": 9,
     "metadata": {},
     "output_type": "execute_result"
    }
   ],
   "source": [
    "pipeline.fit(train, train['unit_sales'])\n",
    "1"
   ]
  },
  {
   "cell_type": "code",
   "execution_count": 42,
   "id": "82ab90f1",
   "metadata": {},
   "outputs": [
    {
     "data": {
      "text/plain": [
       "Pipeline(steps=[('columntransformer',\n",
       "                 ColumnTransformer(transformers=[('ordinalencoder',\n",
       "                                                  OrdinalEncoder(dtype='int',\n",
       "                                                                 handle_unknown='use_encoded_value',\n",
       "                                                                 unknown_value=-1),\n",
       "                                                  ['store_nbr', 'item_nbr',\n",
       "                                                   'onpromotion', 'family',\n",
       "                                                   'class', 'perishable']),\n",
       "                                                 ('dateencoder-1',\n",
       "                                                  DateEncoder(feature_name='month'),\n",
       "                                                  ['date']),\n",
       "                                                 ('dateencoder-2',\n",
       "                                                  DateEncoder(component='day',\n",
       "                                                              feature_name='day'),\n",
       "                                                  ['date'])]))])"
      ]
     },
     "execution_count": 42,
     "metadata": {},
     "output_type": "execute_result"
    }
   ],
   "source": [
    "train = train_all.copy()\n",
    "train.loc[train['unit_sales'] < 0, 'unit_sales'] = 0\n",
    "\n",
    "pipeline_feat = make_pipeline(cats)\n",
    "pipeline_feat.fit(train)"
   ]
  },
  {
   "cell_type": "code",
   "execution_count": 40,
   "id": "ccdf3418",
   "metadata": {},
   "outputs": [
    {
     "data": {
      "text/html": [
       "<div>\n",
       "<style scoped>\n",
       "    .dataframe tbody tr th:only-of-type {\n",
       "        vertical-align: middle;\n",
       "    }\n",
       "\n",
       "    .dataframe tbody tr th {\n",
       "        vertical-align: top;\n",
       "    }\n",
       "\n",
       "    .dataframe thead th {\n",
       "        text-align: right;\n",
       "    }\n",
       "</style>\n",
       "<table border=\"1\" class=\"dataframe\">\n",
       "  <thead>\n",
       "    <tr style=\"text-align: right;\">\n",
       "      <th></th>\n",
       "      <th>item_nbr</th>\n",
       "      <th>family</th>\n",
       "      <th>class</th>\n",
       "      <th>perishable</th>\n",
       "    </tr>\n",
       "  </thead>\n",
       "  <tbody>\n",
       "    <tr>\n",
       "      <th>0</th>\n",
       "      <td>96995</td>\n",
       "      <td>GROCERY I</td>\n",
       "      <td>1093</td>\n",
       "      <td>0</td>\n",
       "    </tr>\n",
       "    <tr>\n",
       "      <th>1</th>\n",
       "      <td>99197</td>\n",
       "      <td>GROCERY I</td>\n",
       "      <td>1067</td>\n",
       "      <td>0</td>\n",
       "    </tr>\n",
       "    <tr>\n",
       "      <th>2</th>\n",
       "      <td>103501</td>\n",
       "      <td>CLEANING</td>\n",
       "      <td>3008</td>\n",
       "      <td>0</td>\n",
       "    </tr>\n",
       "    <tr>\n",
       "      <th>3</th>\n",
       "      <td>103520</td>\n",
       "      <td>GROCERY I</td>\n",
       "      <td>1028</td>\n",
       "      <td>0</td>\n",
       "    </tr>\n",
       "    <tr>\n",
       "      <th>4</th>\n",
       "      <td>103665</td>\n",
       "      <td>BREAD/BAKERY</td>\n",
       "      <td>2712</td>\n",
       "      <td>1</td>\n",
       "    </tr>\n",
       "    <tr>\n",
       "      <th>...</th>\n",
       "      <td>...</td>\n",
       "      <td>...</td>\n",
       "      <td>...</td>\n",
       "      <td>...</td>\n",
       "    </tr>\n",
       "    <tr>\n",
       "      <th>4095</th>\n",
       "      <td>2132318</td>\n",
       "      <td>GROCERY I</td>\n",
       "      <td>1002</td>\n",
       "      <td>0</td>\n",
       "    </tr>\n",
       "    <tr>\n",
       "      <th>4096</th>\n",
       "      <td>2132945</td>\n",
       "      <td>GROCERY I</td>\n",
       "      <td>1026</td>\n",
       "      <td>0</td>\n",
       "    </tr>\n",
       "    <tr>\n",
       "      <th>4097</th>\n",
       "      <td>2132957</td>\n",
       "      <td>GROCERY I</td>\n",
       "      <td>1068</td>\n",
       "      <td>0</td>\n",
       "    </tr>\n",
       "    <tr>\n",
       "      <th>4098</th>\n",
       "      <td>2134058</td>\n",
       "      <td>BEVERAGES</td>\n",
       "      <td>1124</td>\n",
       "      <td>0</td>\n",
       "    </tr>\n",
       "    <tr>\n",
       "      <th>4099</th>\n",
       "      <td>2134244</td>\n",
       "      <td>LIQUOR,WINE,BEER</td>\n",
       "      <td>1364</td>\n",
       "      <td>0</td>\n",
       "    </tr>\n",
       "  </tbody>\n",
       "</table>\n",
       "<p>4100 rows × 4 columns</p>\n",
       "</div>"
      ],
      "text/plain": [
       "      item_nbr            family  class  perishable\n",
       "0        96995         GROCERY I   1093           0\n",
       "1        99197         GROCERY I   1067           0\n",
       "2       103501          CLEANING   3008           0\n",
       "3       103520         GROCERY I   1028           0\n",
       "4       103665      BREAD/BAKERY   2712           1\n",
       "...        ...               ...    ...         ...\n",
       "4095   2132318         GROCERY I   1002           0\n",
       "4096   2132945         GROCERY I   1026           0\n",
       "4097   2132957         GROCERY I   1068           0\n",
       "4098   2134058         BEVERAGES   1124           0\n",
       "4099   2134244  LIQUOR,WINE,BEER   1364           0\n",
       "\n",
       "[4100 rows x 4 columns]"
      ]
     },
     "execution_count": 40,
     "metadata": {},
     "output_type": "execute_result"
    }
   ],
   "source": [
    "items"
   ]
  },
  {
   "cell_type": "code",
   "execution_count": 123,
   "id": "f2856ba4",
   "metadata": {},
   "outputs": [
    {
     "name": "stdout",
     "output_type": "stream",
     "text": [
      "(3370464, 8)\n",
      "id                      int64\n",
      "date           datetime64[ns]\n",
      "store_nbr               int16\n",
      "item_nbr                int64\n",
      "onpromotion            object\n",
      "family                 object\n",
      "class                   int64\n",
      "perishable              int64\n",
      "dtype: object\n"
     ]
    },
    {
     "data": {
      "text/html": [
       "<div>\n",
       "<style scoped>\n",
       "    .dataframe tbody tr th:only-of-type {\n",
       "        vertical-align: middle;\n",
       "    }\n",
       "\n",
       "    .dataframe tbody tr th {\n",
       "        vertical-align: top;\n",
       "    }\n",
       "\n",
       "    .dataframe thead th {\n",
       "        text-align: right;\n",
       "    }\n",
       "</style>\n",
       "<table border=\"1\" class=\"dataframe\">\n",
       "  <thead>\n",
       "    <tr style=\"text-align: right;\">\n",
       "      <th></th>\n",
       "      <th>id</th>\n",
       "      <th>date</th>\n",
       "      <th>store_nbr</th>\n",
       "      <th>item_nbr</th>\n",
       "      <th>onpromotion</th>\n",
       "      <th>family</th>\n",
       "      <th>class</th>\n",
       "      <th>perishable</th>\n",
       "    </tr>\n",
       "  </thead>\n",
       "  <tbody>\n",
       "    <tr>\n",
       "      <th>0</th>\n",
       "      <td>125497040</td>\n",
       "      <td>2017-08-16</td>\n",
       "      <td>1</td>\n",
       "      <td>96995</td>\n",
       "      <td>F</td>\n",
       "      <td>GROCERY I</td>\n",
       "      <td>1093</td>\n",
       "      <td>0</td>\n",
       "    </tr>\n",
       "    <tr>\n",
       "      <th>1</th>\n",
       "      <td>125497041</td>\n",
       "      <td>2017-08-16</td>\n",
       "      <td>1</td>\n",
       "      <td>99197</td>\n",
       "      <td>F</td>\n",
       "      <td>GROCERY I</td>\n",
       "      <td>1067</td>\n",
       "      <td>0</td>\n",
       "    </tr>\n",
       "    <tr>\n",
       "      <th>2</th>\n",
       "      <td>125497042</td>\n",
       "      <td>2017-08-16</td>\n",
       "      <td>1</td>\n",
       "      <td>103501</td>\n",
       "      <td>F</td>\n",
       "      <td>CLEANING</td>\n",
       "      <td>3008</td>\n",
       "      <td>0</td>\n",
       "    </tr>\n",
       "    <tr>\n",
       "      <th>3</th>\n",
       "      <td>125497043</td>\n",
       "      <td>2017-08-16</td>\n",
       "      <td>1</td>\n",
       "      <td>103520</td>\n",
       "      <td>F</td>\n",
       "      <td>GROCERY I</td>\n",
       "      <td>1028</td>\n",
       "      <td>0</td>\n",
       "    </tr>\n",
       "    <tr>\n",
       "      <th>4</th>\n",
       "      <td>125497044</td>\n",
       "      <td>2017-08-16</td>\n",
       "      <td>1</td>\n",
       "      <td>103665</td>\n",
       "      <td>F</td>\n",
       "      <td>BREAD/BAKERY</td>\n",
       "      <td>2712</td>\n",
       "      <td>1</td>\n",
       "    </tr>\n",
       "  </tbody>\n",
       "</table>\n",
       "</div>"
      ],
      "text/plain": [
       "          id       date  store_nbr  item_nbr onpromotion        family  class  \\\n",
       "0  125497040 2017-08-16          1     96995           F     GROCERY I   1093   \n",
       "1  125497041 2017-08-16          1     99197           F     GROCERY I   1067   \n",
       "2  125497042 2017-08-16          1    103501           F      CLEANING   3008   \n",
       "3  125497043 2017-08-16          1    103520           F     GROCERY I   1028   \n",
       "4  125497044 2017-08-16          1    103665           F  BREAD/BAKERY   2712   \n",
       "\n",
       "   perishable  \n",
       "0           0  \n",
       "1           0  \n",
       "2           0  \n",
       "3           0  \n",
       "4           1  "
      ]
     },
     "execution_count": 123,
     "metadata": {},
     "output_type": "execute_result"
    }
   ],
   "source": [
    "items = pd.read_csv('data/items.csv')\n",
    "\n",
    "test = (pd.read_csv('data/test.csv', \n",
    "                    parse_dates=['date'], \n",
    "                    # index_col='id', \n",
    "                    dtype={\n",
    "                        'id':        np.int64,\n",
    "                        'store_nbr': np.short,\n",
    "                        'item_nbr': np.int64,\n",
    "                        'unit_sales': np.float64\n",
    "                    },\n",
    "                    converters={'onpromotion': lambda x: 'T' if x == 'True' else ('F' if x == 'False' else 'U')}\n",
    "                   )\n",
    "    .merge(items, how='left'))\n",
    "\n",
    "# test['class']    = test['class'].astype('str')\n",
    "# test['item_nbr'] = test['item_nbr'].astype('str')\n",
    "\n",
    "print(test.shape)\n",
    "print(test.dtypes)\n",
    "test.head()"
   ]
  },
  {
   "cell_type": "code",
   "execution_count": 45,
   "id": "33bfade4",
   "metadata": {},
   "outputs": [
    {
     "data": {
      "text/plain": [
       "0"
      ]
     },
     "execution_count": 45,
     "metadata": {},
     "output_type": "execute_result"
    }
   ],
   "source": [
    "# pipeline_feat.transform(test)\n",
    "test.isna().sum(axis=1).sum()"
   ]
  },
  {
   "cell_type": "code",
   "execution_count": 124,
   "id": "5019d5e0",
   "metadata": {},
   "outputs": [
    {
     "data": {
      "text/plain": [
       "array([[ 0],\n",
       "       [ 1],\n",
       "       [ 2],\n",
       "       ...,\n",
       "       [-1],\n",
       "       [-1],\n",
       "       [-1]])"
      ]
     },
     "execution_count": 124,
     "metadata": {},
     "output_type": "execute_result"
    }
   ],
   "source": [
    "pipeline_feat = make_pipeline(cats)\n",
    "features = pipeline_feat.transform(test)\n",
    "features"
   ]
  },
  {
   "cell_type": "code",
   "execution_count": 135,
   "id": "d473f84e",
   "metadata": {},
   "outputs": [
    {
     "data": {
      "text/plain": [
       "Pipeline(steps=[('columntransformer',\n",
       "                 ColumnTransformer(transformers=[('ordinalencoder',\n",
       "                                                  OrdinalEncoder(dtype='int',\n",
       "                                                                 handle_unknown='use_encoded_value',\n",
       "                                                                 unknown_value=-1),\n",
       "                                                  ['store_nbr', 'item_nbr',\n",
       "                                                   'onpromotion', 'family',\n",
       "                                                   'class', 'perishable']),\n",
       "                                                 ('dateencoder-1',\n",
       "                                                  DateEncoder(feature_name='month'),\n",
       "                                                  ['date']),\n",
       "                                                 ('dateencoder-2',\n",
       "                                                  DateEncoder(component='day',\n",
       "                                                              feature_name='day'),\n",
       "                                                  ['date'])])),\n",
       "                ('cbm',\n",
       "                 CBM(learning_rate_step_size=0.002,\n",
       "                     min_iterations_early_stopping=10))])"
      ]
     },
     "execution_count": 135,
     "metadata": {},
     "output_type": "execute_result"
    }
   ],
   "source": [
    "# training\n",
    "\n",
    "train_all_all = train_all.copy()\n",
    "train_all_all.loc[train_all_all['unit_sales'] < 0, 'unit_sales'] = 0\n",
    "\n",
    "pipeline_all = make_pipeline(cats, cbm)\n",
    "pipeline_all.fit(train_all_all, train_all_all['unit_sales'])"
   ]
  },
  {
   "cell_type": "code",
   "execution_count": 136,
   "id": "2fb0eda4",
   "metadata": {},
   "outputs": [
    {
     "data": {
      "text/plain": [
       "count    3.370464e+06\n",
       "mean     7.313644e+00\n",
       "std      1.613676e+01\n",
       "min      3.352459e-01\n",
       "25%      2.642382e+00\n",
       "50%      4.420249e+00\n",
       "75%      7.781694e+00\n",
       "max      2.224308e+03\n",
       "dtype: float64"
      ]
     },
     "execution_count": 136,
     "metadata": {},
     "output_type": "execute_result"
    }
   ],
   "source": [
    "y_pred_test = pipeline_all.predict(test)\n",
    "\n",
    "pd.Series(y_pred_test.flatten()).describe()"
   ]
  },
  {
   "cell_type": "code",
   "execution_count": 137,
   "id": "234be585",
   "metadata": {},
   "outputs": [
    {
     "data": {
      "text/plain": [
       "7.535582    21\n",
       "7.772725    21\n",
       "5.474212    21\n",
       "5.866997    21\n",
       "7.266502    21\n",
       "            ..\n",
       "2.044499     1\n",
       "9.149783     1\n",
       "6.819987     1\n",
       "2.328584     1\n",
       "8.180235     1\n",
       "Length: 1539115, dtype: int64"
      ]
     },
     "execution_count": 137,
     "metadata": {},
     "output_type": "execute_result"
    }
   ],
   "source": [
    "pd.Series(y_pred_test.flatten()).value_counts()"
   ]
  },
  {
   "cell_type": "code",
   "execution_count": 138,
   "id": "6c151939",
   "metadata": {},
   "outputs": [],
   "source": [
    "submission = test.copy()\n",
    "submission.loc[:, 'unit_sales'] = y_pred_test.flatten()\n",
    "submission[['id', 'unit_sales']].to_csv('submission.csv', index=False)"
   ]
  },
  {
   "cell_type": "code",
   "execution_count": 128,
   "id": "abba959f",
   "metadata": {},
   "outputs": [
    {
     "name": "stdout",
     "output_type": "stream",
     "text": [
      "id,unit_sales\r\n",
      "125497040,2.5024013377093564\r\n",
      "125497041,4.222599293880319\r\n",
      "125497042,4.873269254461008\r\n",
      "125497043,4.187582054240339\r\n",
      "125497044,4.932258731082357\r\n",
      "125497045,13.245315426347876\r\n",
      "125497046,21.230761691507237\r\n",
      "125497047,14.97772186798399\r\n",
      "125497048,6.772408878599083\r\n"
     ]
    }
   ],
   "source": [
    "!head submission.csv"
   ]
  },
  {
   "cell_type": "code",
   "execution_count": 139,
   "id": "90c762f1",
   "metadata": {},
   "outputs": [
    {
     "name": "stdout",
     "output_type": "stream",
     "text": [
      "100%|██████████████████████████████████████| 91.2M/91.2M [00:17<00:00, 5.61MB/s]\n",
      "Successfully submitted to Corporación Favorita Grocery Sales Forecasting"
     ]
    }
   ],
   "source": [
    "!kaggle competitions submit -c favorita-grocery-sales-forecasting -f submission.csv -m sklearn1"
   ]
  },
  {
   "cell_type": "code",
   "execution_count": null,
   "id": "523c44df",
   "metadata": {},
   "outputs": [],
   "source": []
  },
  {
   "cell_type": "code",
   "execution_count": null,
   "id": "3a0ddf3d",
   "metadata": {},
   "outputs": [],
   "source": []
  },
  {
   "cell_type": "code",
   "execution_count": 32,
   "id": "5b8d18ac",
   "metadata": {},
   "outputs": [
    {
     "data": {
      "text/plain": [
       "array([[9.46390226],\n",
       "       [9.46412469],\n",
       "       [9.48171461],\n",
       "       [9.48268984],\n",
       "       [9.46475154]])"
      ]
     },
     "execution_count": 32,
     "metadata": {},
     "output_type": "execute_result"
    }
   ],
   "source": [
    "pipeline.predict(train.head())"
   ]
  },
  {
   "cell_type": "code",
   "execution_count": 18,
   "id": "c6c389af",
   "metadata": {},
   "outputs": [
    {
     "data": {
      "text/plain": [
       "(125497040, 8)"
      ]
     },
     "execution_count": 18,
     "metadata": {},
     "output_type": "execute_result"
    }
   ],
   "source": [
    "train.shape"
   ]
  },
  {
   "cell_type": "code",
   "execution_count": 54,
   "id": "61fca780",
   "metadata": {},
   "outputs": [
    {
     "data": {
      "text/plain": [
       "172197"
      ]
     },
     "execution_count": 54,
     "metadata": {},
     "output_type": "execute_result"
    }
   ],
   "source": [
    "from collections import defaultdict\n",
    "\n",
    "item_store_map = defaultdict(int)\n",
    "\n",
    "# have the first item as back-off\n",
    "item_store_map.update({(row['item_nbr'], row['store_nbr']): idx + 1 for idx, row in train[['item_nbr','store_nbr']].value_counts(ascending=True).reset_index(name='count').query('count > 5').iterrows()})\n",
    "\n",
    "len(item_store_map)"
   ]
  },
  {
   "cell_type": "code",
   "execution_count": 55,
   "id": "3fe9b08f",
   "metadata": {},
   "outputs": [],
   "source": [
    "train['item_store'] = train[['item_nbr','store_nbr']].apply(lambda x: item_store_map[tuple(x)], axis=1)"
   ]
  },
  {
   "cell_type": "code",
   "execution_count": 3,
   "id": "c7a3237f",
   "metadata": {},
   "outputs": [
    {
     "data": {
      "text/html": [
       "<div>\n",
       "<style scoped>\n",
       "    .dataframe tbody tr th:only-of-type {\n",
       "        vertical-align: middle;\n",
       "    }\n",
       "\n",
       "    .dataframe tbody tr th {\n",
       "        vertical-align: top;\n",
       "    }\n",
       "\n",
       "    .dataframe thead th {\n",
       "        text-align: right;\n",
       "    }\n",
       "</style>\n",
       "<table border=\"1\" class=\"dataframe\">\n",
       "  <thead>\n",
       "    <tr style=\"text-align: right;\">\n",
       "      <th></th>\n",
       "      <th>date</th>\n",
       "      <th>store_nbr</th>\n",
       "      <th>item_nbr</th>\n",
       "      <th>unit_sales</th>\n",
       "      <th>onpromotion</th>\n",
       "      <th>family</th>\n",
       "      <th>class</th>\n",
       "      <th>perishable</th>\n",
       "    </tr>\n",
       "  </thead>\n",
       "  <tbody>\n",
       "    <tr>\n",
       "      <th>0</th>\n",
       "      <td>2013-01-01</td>\n",
       "      <td>25</td>\n",
       "      <td>4</td>\n",
       "      <td>7.0</td>\n",
       "      <td>U</td>\n",
       "      <td>BREAD/BAKERY</td>\n",
       "      <td>184</td>\n",
       "      <td>1</td>\n",
       "    </tr>\n",
       "    <tr>\n",
       "      <th>1</th>\n",
       "      <td>2013-01-02</td>\n",
       "      <td>1</td>\n",
       "      <td>4</td>\n",
       "      <td>2.0</td>\n",
       "      <td>U</td>\n",
       "      <td>BREAD/BAKERY</td>\n",
       "      <td>184</td>\n",
       "      <td>1</td>\n",
       "    </tr>\n",
       "    <tr>\n",
       "      <th>2</th>\n",
       "      <td>2013-01-02</td>\n",
       "      <td>2</td>\n",
       "      <td>4</td>\n",
       "      <td>5.0</td>\n",
       "      <td>U</td>\n",
       "      <td>BREAD/BAKERY</td>\n",
       "      <td>184</td>\n",
       "      <td>1</td>\n",
       "    </tr>\n",
       "    <tr>\n",
       "      <th>3</th>\n",
       "      <td>2013-01-02</td>\n",
       "      <td>3</td>\n",
       "      <td>4</td>\n",
       "      <td>6.0</td>\n",
       "      <td>U</td>\n",
       "      <td>BREAD/BAKERY</td>\n",
       "      <td>184</td>\n",
       "      <td>1</td>\n",
       "    </tr>\n",
       "    <tr>\n",
       "      <th>4</th>\n",
       "      <td>2013-01-02</td>\n",
       "      <td>4</td>\n",
       "      <td>4</td>\n",
       "      <td>2.0</td>\n",
       "      <td>U</td>\n",
       "      <td>BREAD/BAKERY</td>\n",
       "      <td>184</td>\n",
       "      <td>1</td>\n",
       "    </tr>\n",
       "  </tbody>\n",
       "</table>\n",
       "</div>"
      ],
      "text/plain": [
       "        date  store_nbr  item_nbr  unit_sales onpromotion        family  \\\n",
       "0 2013-01-01         25         4         7.0           U  BREAD/BAKERY   \n",
       "1 2013-01-02          1         4         2.0           U  BREAD/BAKERY   \n",
       "2 2013-01-02          2         4         5.0           U  BREAD/BAKERY   \n",
       "3 2013-01-02          3         4         6.0           U  BREAD/BAKERY   \n",
       "4 2013-01-02          4         4         2.0           U  BREAD/BAKERY   \n",
       "\n",
       "   class  perishable  \n",
       "0    184           1  \n",
       "1    184           1  \n",
       "2    184           1  \n",
       "3    184           1  \n",
       "4    184           1  "
      ]
     },
     "execution_count": 3,
     "metadata": {},
     "output_type": "execute_result"
    }
   ],
   "source": [
    "train = pd.read_parquet('data/train_items.parquet')\n",
    "\n",
    "class_map = {x: i for i, x in enumerate(np.sort(train['class'].unique()))}\n",
    "item_nbr_map = {x: i for i, x in enumerate(np.sort(train['item_nbr'].unique()))}\n",
    "\n",
    "train['class']    = train['class'].map(class_map)\n",
    "train['item_nbr'] = train['item_nbr'].map(item_nbr_map)\n",
    "\n",
    "train.head()"
   ]
  },
  {
   "cell_type": "code",
   "execution_count": 4,
   "id": "8b7b478c",
   "metadata": {},
   "outputs": [],
   "source": [
    "\n",
    "# # train['unit_sales'] = train['unit_sales'].astype(np.int32)\n",
    "# train[['unit_sales']].to_parquet('data/train_unit_sales.parquet')\n",
    "\n",
    "# x_train = pd.read_parquet('data/train_items_featurized.parquet')\n",
    "# x_train_unit_sales = pd.read_parquet('data/train_unit_sales.parquet')"
   ]
  },
  {
   "cell_type": "code",
   "execution_count": null,
   "id": "7c852782",
   "metadata": {},
   "outputs": [],
   "source": []
  },
  {
   "cell_type": "code",
   "execution_count": null,
   "id": "785a97c4",
   "metadata": {},
   "outputs": [],
   "source": []
  },
  {
   "cell_type": "code",
   "execution_count": 5,
   "id": "5e7fc02a",
   "metadata": {},
   "outputs": [
    {
     "data": {
      "text/plain": [
       "8191095"
      ]
     },
     "execution_count": 5,
     "metadata": {},
     "output_type": "execute_result"
    }
   ],
   "source": [
    "(((train['unit_sales'] * 10) % 10  ) > 0).sum()"
   ]
  },
  {
   "cell_type": "code",
   "execution_count": null,
   "id": "a8534d07",
   "metadata": {},
   "outputs": [],
   "source": []
  },
  {
   "cell_type": "code",
   "execution_count": 6,
   "id": "e8f9d08e",
   "metadata": {},
   "outputs": [
    {
     "data": {
      "text/plain": [
       "0.06526922866069192"
      ]
     },
     "execution_count": 6,
     "metadata": {},
     "output_type": "execute_result"
    }
   ],
   "source": [
    "8191095 / len(train)"
   ]
  },
  {
   "cell_type": "code",
   "execution_count": 7,
   "id": "adfe5485",
   "metadata": {},
   "outputs": [
    {
     "name": "stdout",
     "output_type": "stream",
     "text": [
      "featurize 1.988840103149414\n",
      "train      59.32568883895874\n",
      "iterations 3\n",
      "23.605482539271893\n"
     ]
    }
   ],
   "source": [
    "import cbm\n",
    "import time\n",
    "from sklearn.model_selection import TimeSeriesSplit\n",
    "from sklearn.metrics import mean_squared_error\n",
    "\n",
    "def featurize(df):\n",
    "   return pd.DataFrame({\n",
    "       'store_nbr'    : df['store_nbr'],\n",
    "       'item_nbr'     : df['item_nbr'],\n",
    "       'onpromotion'  : df['onpromotion'],\n",
    "       'family'       : df['family'],\n",
    "       'class'        : df['class'],\n",
    "       'perishable'   : df['perishable'],\n",
    "       'date'         : df['date'],\n",
    "    })\n",
    "\n",
    "start = time.time()\n",
    "\n",
    "x_train = featurize(train)\n",
    "\n",
    "print(f'featurize { time.time() - start}')\n",
    "\n",
    "# enable_bin_count=True) # \n",
    "model = cbm.CBM(learning_rate_step_size=1/64000, min_iterations_early_stopping=2)\n",
    "model.fit(x_train, train['unit_sales'])\n",
    "\n",
    "print(f'train      {time.time() - start}')\n",
    "print(f'iterations {model.iterations}')\n",
    "\n",
    "y_pred_train = model.predict(x_train).flatten()\n",
    "\n",
    "rmsle = mean_squared_error(train['unit_sales'], y_pred_train, squared=False)\n",
    "print(rmsle)\n",
    "\n",
    "# 29sec - for store/item\n",
    "# 76sec - for store/onprom/family/class/perishable - 612k\n",
    "# 589k w/  1/2000 learning rate\n",
    "# 612k w/   1/200\n",
    "# 132  w/  1/4000\n",
    "# 37   w/  1/8000\n",
    "# 25   w/ 1/16000 \n",
    "# 23   w  1/32000 it>=15\n",
    "# 23   w  1/32000 it>=5\n",
    "# 23   w  1/64000 it>=2\n",
    "# 23.60 w 1/64000 it>=2 + item_nbr\n",
    "# 23.60 w 1/64000 it>=2 + item_nbr + date"
   ]
  },
  {
   "cell_type": "code",
   "execution_count": 9,
   "id": "b672d0c7",
   "metadata": {},
   "outputs": [
    {
     "data": {
      "text/plain": [
       "333"
      ]
     },
     "execution_count": 9,
     "metadata": {},
     "output_type": "execute_result"
    }
   ],
   "source": [
    "x_train['class'].max()"
   ]
  },
  {
   "cell_type": "code",
   "execution_count": 10,
   "id": "33d38059",
   "metadata": {},
   "outputs": [
    {
     "data": {
      "text/plain": [
       "4035"
      ]
     },
     "execution_count": 10,
     "metadata": {},
     "output_type": "execute_result"
    }
   ],
   "source": [
    "x_train['item_nbr'].max()"
   ]
  },
  {
   "cell_type": "code",
   "execution_count": 8,
   "id": "09310633",
   "metadata": {},
   "outputs": [],
   "source": [
    "# model.plot_importance(figsize=(20, 20))"
   ]
  },
  {
   "cell_type": "code",
   "execution_count": 45,
   "id": "052d4c10",
   "metadata": {},
   "outputs": [
    {
     "name": "stderr",
     "output_type": "stream",
     "text": [
      "/home/marcozo/miniconda3/envs/cbm/lib/python3.7/site-packages/numpy/lib/arraysetops.py:583: FutureWarning: elementwise comparison failed; returning scalar instead, but in the future will perform elementwise comparison\n",
      "  mask |= (ar1 == a)\n"
     ]
    },
    {
     "data": {
      "text/html": [
       "<div>\n",
       "<style scoped>\n",
       "    .dataframe tbody tr th:only-of-type {\n",
       "        vertical-align: middle;\n",
       "    }\n",
       "\n",
       "    .dataframe tbody tr th {\n",
       "        vertical-align: top;\n",
       "    }\n",
       "\n",
       "    .dataframe thead th {\n",
       "        text-align: right;\n",
       "    }\n",
       "</style>\n",
       "<table border=\"1\" class=\"dataframe\">\n",
       "  <thead>\n",
       "    <tr style=\"text-align: right;\">\n",
       "      <th></th>\n",
       "      <th>date</th>\n",
       "      <th>store_nbr</th>\n",
       "      <th>item_nbr</th>\n",
       "      <th>onpromotion</th>\n",
       "      <th>family</th>\n",
       "      <th>class</th>\n",
       "      <th>perishable</th>\n",
       "    </tr>\n",
       "  </thead>\n",
       "  <tbody>\n",
       "    <tr>\n",
       "      <th>0</th>\n",
       "      <td>2017-08-16</td>\n",
       "      <td>1</td>\n",
       "      <td>0.0</td>\n",
       "      <td>F</td>\n",
       "      <td>GROCERY I</td>\n",
       "      <td>63.0</td>\n",
       "      <td>0</td>\n",
       "    </tr>\n",
       "    <tr>\n",
       "      <th>1</th>\n",
       "      <td>2017-08-16</td>\n",
       "      <td>2</td>\n",
       "      <td>0.0</td>\n",
       "      <td>F</td>\n",
       "      <td>GROCERY I</td>\n",
       "      <td>63.0</td>\n",
       "      <td>0</td>\n",
       "    </tr>\n",
       "    <tr>\n",
       "      <th>2</th>\n",
       "      <td>2017-08-16</td>\n",
       "      <td>3</td>\n",
       "      <td>0.0</td>\n",
       "      <td>F</td>\n",
       "      <td>GROCERY I</td>\n",
       "      <td>63.0</td>\n",
       "      <td>0</td>\n",
       "    </tr>\n",
       "    <tr>\n",
       "      <th>3</th>\n",
       "      <td>2017-08-16</td>\n",
       "      <td>4</td>\n",
       "      <td>0.0</td>\n",
       "      <td>F</td>\n",
       "      <td>GROCERY I</td>\n",
       "      <td>63.0</td>\n",
       "      <td>0</td>\n",
       "    </tr>\n",
       "    <tr>\n",
       "      <th>4</th>\n",
       "      <td>2017-08-16</td>\n",
       "      <td>5</td>\n",
       "      <td>0.0</td>\n",
       "      <td>F</td>\n",
       "      <td>GROCERY I</td>\n",
       "      <td>63.0</td>\n",
       "      <td>0</td>\n",
       "    </tr>\n",
       "  </tbody>\n",
       "</table>\n",
       "</div>"
      ],
      "text/plain": [
       "        date  store_nbr  item_nbr onpromotion     family  class  perishable\n",
       "0 2017-08-16          1       0.0           F  GROCERY I   63.0           0\n",
       "1 2017-08-16          2       0.0           F  GROCERY I   63.0           0\n",
       "2 2017-08-16          3       0.0           F  GROCERY I   63.0           0\n",
       "3 2017-08-16          4       0.0           F  GROCERY I   63.0           0\n",
       "4 2017-08-16          5       0.0           F  GROCERY I   63.0           0"
      ]
     },
     "execution_count": 45,
     "metadata": {},
     "output_type": "execute_result"
    }
   ],
   "source": [
    "items = pd.read_csv('data/items.csv')\n",
    "\n",
    "test = pd.read_csv('data/test.csv',\n",
    "            parse_dates=['date'], \n",
    "            index_col='id', \n",
    "            dtype={\n",
    "                # 'date': np.datetime64, \n",
    "                'store_nbr': np.short,\n",
    "                'item_nbr': np.int64,\n",
    "                'unit_sales': np.float64\n",
    "            },\n",
    ").merge(items)\n",
    "\n",
    "test['onpromotion'] = test['onpromotion'].map({True: 'T', False: 'F'})\n",
    "test['class']       = test['class'].map(class_map)\n",
    "test['item_nbr']    = test['item_nbr'].map(item_nbr_map)\n",
    "\n",
    "test.head()"
   ]
  },
  {
   "cell_type": "code",
   "execution_count": 53,
   "id": "c4a482dc",
   "metadata": {},
   "outputs": [
    {
     "data": {
      "text/html": [
       "<div>\n",
       "<style scoped>\n",
       "    .dataframe tbody tr th:only-of-type {\n",
       "        vertical-align: middle;\n",
       "    }\n",
       "\n",
       "    .dataframe tbody tr th {\n",
       "        vertical-align: top;\n",
       "    }\n",
       "\n",
       "    .dataframe thead th {\n",
       "        text-align: right;\n",
       "    }\n",
       "</style>\n",
       "<table border=\"1\" class=\"dataframe\">\n",
       "  <thead>\n",
       "    <tr style=\"text-align: right;\">\n",
       "      <th></th>\n",
       "      <th>date</th>\n",
       "      <th>store_nbr</th>\n",
       "      <th>item_nbr</th>\n",
       "      <th>onpromotion</th>\n",
       "      <th>family</th>\n",
       "      <th>class</th>\n",
       "      <th>perishable</th>\n",
       "    </tr>\n",
       "  </thead>\n",
       "  <tbody>\n",
       "  </tbody>\n",
       "</table>\n",
       "</div>"
      ],
      "text/plain": [
       "Empty DataFrame\n",
       "Columns: [date, store_nbr, item_nbr, onpromotion, family, class, perishable]\n",
       "Index: []"
      ]
     },
     "execution_count": 53,
     "metadata": {},
     "output_type": "execute_result"
    }
   ],
   "source": [
    "# TODO: handle NA by multiplying by 1\n",
    "test['item_nbr'] = test['item_nbr'].fillna(0).astype(int)\n",
    "test['class']    = test['class']   .fillna(0).astype(int)\n",
    "test[test.isna().any(axis=1)]"
   ]
  },
  {
   "cell_type": "code",
   "execution_count": 12,
   "id": "78377989",
   "metadata": {},
   "outputs": [],
   "source": [
    "# class_cats = train_raw['class'].astype('category').cat.categories.tolist()\n",
    "\n",
    "# test['class'] = test['class'].astype(pd.CategoricalDtype(categories=class_cats, ordered=True)).cat.codes\n",
    "# test.head()"
   ]
  },
  {
   "cell_type": "code",
   "execution_count": 54,
   "id": "288bb676",
   "metadata": {},
   "outputs": [
    {
     "data": {
      "text/html": [
       "<div>\n",
       "<style scoped>\n",
       "    .dataframe tbody tr th:only-of-type {\n",
       "        vertical-align: middle;\n",
       "    }\n",
       "\n",
       "    .dataframe tbody tr th {\n",
       "        vertical-align: top;\n",
       "    }\n",
       "\n",
       "    .dataframe thead th {\n",
       "        text-align: right;\n",
       "    }\n",
       "</style>\n",
       "<table border=\"1\" class=\"dataframe\">\n",
       "  <thead>\n",
       "    <tr style=\"text-align: right;\">\n",
       "      <th></th>\n",
       "      <th>store_nbr</th>\n",
       "      <th>item_nbr</th>\n",
       "      <th>onpromotion</th>\n",
       "      <th>family</th>\n",
       "      <th>class</th>\n",
       "      <th>perishable</th>\n",
       "      <th>date</th>\n",
       "    </tr>\n",
       "  </thead>\n",
       "  <tbody>\n",
       "    <tr>\n",
       "      <th>0</th>\n",
       "      <td>1</td>\n",
       "      <td>0</td>\n",
       "      <td>F</td>\n",
       "      <td>GROCERY I</td>\n",
       "      <td>63</td>\n",
       "      <td>0</td>\n",
       "      <td>2017-08-16</td>\n",
       "    </tr>\n",
       "    <tr>\n",
       "      <th>1</th>\n",
       "      <td>2</td>\n",
       "      <td>0</td>\n",
       "      <td>F</td>\n",
       "      <td>GROCERY I</td>\n",
       "      <td>63</td>\n",
       "      <td>0</td>\n",
       "      <td>2017-08-16</td>\n",
       "    </tr>\n",
       "    <tr>\n",
       "      <th>2</th>\n",
       "      <td>3</td>\n",
       "      <td>0</td>\n",
       "      <td>F</td>\n",
       "      <td>GROCERY I</td>\n",
       "      <td>63</td>\n",
       "      <td>0</td>\n",
       "      <td>2017-08-16</td>\n",
       "    </tr>\n",
       "    <tr>\n",
       "      <th>3</th>\n",
       "      <td>4</td>\n",
       "      <td>0</td>\n",
       "      <td>F</td>\n",
       "      <td>GROCERY I</td>\n",
       "      <td>63</td>\n",
       "      <td>0</td>\n",
       "      <td>2017-08-16</td>\n",
       "    </tr>\n",
       "    <tr>\n",
       "      <th>4</th>\n",
       "      <td>5</td>\n",
       "      <td>0</td>\n",
       "      <td>F</td>\n",
       "      <td>GROCERY I</td>\n",
       "      <td>63</td>\n",
       "      <td>0</td>\n",
       "      <td>2017-08-16</td>\n",
       "    </tr>\n",
       "  </tbody>\n",
       "</table>\n",
       "</div>"
      ],
      "text/plain": [
       "   store_nbr  item_nbr onpromotion     family  class  perishable       date\n",
       "0          1         0           F  GROCERY I     63           0 2017-08-16\n",
       "1          2         0           F  GROCERY I     63           0 2017-08-16\n",
       "2          3         0           F  GROCERY I     63           0 2017-08-16\n",
       "3          4         0           F  GROCERY I     63           0 2017-08-16\n",
       "4          5         0           F  GROCERY I     63           0 2017-08-16"
      ]
     },
     "execution_count": 54,
     "metadata": {},
     "output_type": "execute_result"
    }
   ],
   "source": [
    "x_test = featurize(test)\n",
    "x_test.head()"
   ]
  },
  {
   "cell_type": "code",
   "execution_count": 55,
   "id": "e2f2f2e7",
   "metadata": {},
   "outputs": [
    {
     "data": {
      "text/plain": [
       "array([[8.67074847, 1.00170424, 1.00180464, ..., 1.00164436, 1.00164009,\n",
       "        1.00161252],\n",
       "       [8.67054548, 1.00168079, 1.00180464, ..., 1.00164436, 1.00164009,\n",
       "        1.00161252],\n",
       "       [8.67063081, 1.00169065, 1.00180464, ..., 1.00164436, 1.00164009,\n",
       "        1.00161252],\n",
       "       ...,\n",
       "       [8.67042574, 1.00148041, 1.00180464, ..., 1.00164436, 1.0016697 ,\n",
       "        1.00161252],\n",
       "       [8.67126881, 1.00157779, 1.00180464, ..., 1.00164436, 1.0016697 ,\n",
       "        1.00161252],\n",
       "       [8.67073749, 1.00151642, 1.00180464, ..., 1.00164436, 1.0016697 ,\n",
       "        1.00161252]])"
      ]
     },
     "execution_count": 55,
     "metadata": {},
     "output_type": "execute_result"
    }
   ],
   "source": [
    "y_pred_test = model.predict(x_test, explain=True) #.flatten()\n",
    "y_pred_test"
   ]
  },
  {
   "cell_type": "code",
   "execution_count": 57,
   "id": "6483a859",
   "metadata": {},
   "outputs": [
    {
     "data": {
      "text/plain": [
       "8.666806    21\n",
       "8.666954    21\n",
       "8.666864    21\n",
       "8.667392    21\n",
       "8.666751    21\n",
       "            ..\n",
       "8.656977     1\n",
       "8.659257     1\n",
       "8.656693     1\n",
       "8.656806     1\n",
       "8.641494     1\n",
       "Length: 1538737, dtype: int64"
      ]
     },
     "execution_count": 57,
     "metadata": {},
     "output_type": "execute_result"
    }
   ],
   "source": [
    "pd.Series(y_pred_test[:,0].flatten()).value_counts()"
   ]
  },
  {
   "cell_type": "code",
   "execution_count": 58,
   "id": "2798c44f",
   "metadata": {},
   "outputs": [],
   "source": [
    "y_pred_test = model.predict(x_test)"
   ]
  },
  {
   "cell_type": "code",
   "execution_count": 64,
   "id": "d3d53829",
   "metadata": {},
   "outputs": [],
   "source": [
    "test[['unit_sales']].index.rename('id', inplace=True)\n",
    "test['unit_sales'] = y_pred_test\n",
    "test[['unit_sales']].to_csv('submission.csv', index=True)"
   ]
  },
  {
   "cell_type": "code",
   "execution_count": 65,
   "id": "5ae1ac1b",
   "metadata": {},
   "outputs": [],
   "source": [
    "test['unit_sales'] = y_pred_test\n",
    "test[['unit_sales']].to_csv('submission.csv', index=True)"
   ]
  },
  {
   "cell_type": "code",
   "execution_count": 66,
   "id": "1f3c2e53",
   "metadata": {},
   "outputs": [
    {
     "name": "stdout",
     "output_type": "stream",
     "text": [
      "id,unit_sales\r\n",
      "0,8.670748466911578\r\n",
      "1,8.670545482030695\r\n",
      "2,8.670630814956288\r\n",
      "3,8.67052676822758\r\n",
      "4,8.66955171527891\r\n",
      "5,8.670202952780572\r\n",
      "6,8.670841233962294\r\n",
      "7,8.670437318412505\r\n",
      "8,8.669850978368242\r\n"
     ]
    }
   ],
   "source": [
    "!head submission.csv"
   ]
  },
  {
   "cell_type": "code",
   "execution_count": 20,
   "id": "db2247b6",
   "metadata": {},
   "outputs": [
    {
     "data": {
      "text/plain": [
       "8.665899    28\n",
       "8.649263    26\n",
       "8.649260    26\n",
       "8.649381    24\n",
       "8.649342    22\n",
       "            ..\n",
       "8.652211     1\n",
       "8.659009     1\n",
       "8.664719     1\n",
       "8.652154     1\n",
       "8.634132     1\n",
       "Length: 20537444, dtype: int64"
      ]
     },
     "execution_count": 20,
     "metadata": {},
     "output_type": "execute_result"
    }
   ],
   "source": [
    "pd.Series(y_pred_train).value_counts()"
   ]
  },
  {
   "cell_type": "code",
   "execution_count": 67,
   "id": "6c9e45a5",
   "metadata": {},
   "outputs": [
    {
     "name": "stdout",
     "output_type": "stream",
     "text": [
      "100%|██████████████████████████████████████| 81.9M/81.9M [00:21<00:00, 3.94MB/s]\n",
      "Successfully submitted to Corporación Favorita Grocery Sales Forecasting"
     ]
    }
   ],
   "source": [
    "!kaggle competitions submit -c favorita-grocery-sales-forecasting -f submission.csv -m v1"
   ]
  }
 ],
 "metadata": {
  "kernelspec": {
   "display_name": "Python 3 (ipykernel)",
   "language": "python",
   "name": "python3"
  },
  "language_info": {
   "codemirror_mode": {
    "name": "ipython",
    "version": 3
   },
   "file_extension": ".py",
   "mimetype": "text/x-python",
   "name": "python",
   "nbconvert_exporter": "python",
   "pygments_lexer": "ipython3",
   "version": "3.7.11"
  }
 },
 "nbformat": 4,
 "nbformat_minor": 5
}
